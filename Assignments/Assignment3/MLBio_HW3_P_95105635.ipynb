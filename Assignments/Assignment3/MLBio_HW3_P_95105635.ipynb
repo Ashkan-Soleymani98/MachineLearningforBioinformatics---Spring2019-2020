{
 "cells": [
  {
   "cell_type": "markdown",
   "metadata": {
    "colab_type": "text",
    "id": "efrE1Lc0Otrq"
   },
   "source": [
    "# **Machine Learning in Bioinformatics**"
   ]
  },
  {
   "cell_type": "markdown",
   "metadata": {
    "colab_type": "text",
    "id": "GtzvENmYOtxi"
   },
   "source": [
    "**Homework 3:**<br/>\n",
    "!!! If you don't fill these fields, your homework does not count !!!<br/>\n",
    "first name and last name : Ashkan Soleymani<br/>\n",
    "student number : 95105635"
   ]
  },
  {
   "cell_type": "markdown",
   "metadata": {
    "colab_type": "text",
    "id": "KG3vb72VOt4G"
   },
   "source": [
    "You can run cells by hitting `Shift` + `Enter` or `ctrl` + `Enter`.<br/>\n",
    "We highly recommend you to read each line of code carefully and try to \n",
    "understand what it exactly does.<br/>\n",
    "Just alter the parts that is between green comments and specified for you. <br/>\n",
    "Please do not change other parts."
   ]
  },
  {
   "cell_type": "code",
   "execution_count": 1,
   "metadata": {
    "colab": {},
    "colab_type": "code",
    "id": "v0dotHjRO5x_"
   },
   "outputs": [],
   "source": [
    "# importing libraries\n",
    "import pandas as pd\n",
    "import numpy as np\n",
    "import matplotlib.pyplot as plt\n",
    "from sklearn.model_selection import train_test_split\n",
    "import numpy as np\n",
    "from sklearn.datasets import load_breast_cancer "
   ]
  },
  {
   "cell_type": "markdown",
   "metadata": {
    "colab_type": "text",
    "id": "_5C6lgUtO-bg"
   },
   "source": [
    "\n",
    "### about the Data:<br/>\n",
    "The purpose of this project is to classify tumors into malignant or benign. The following dataset is constructed based on images of tumors. Features are computed from a digitized image of a fine needle aspirate (FNA) of a breast mass.\n",
    "For more details about the features of this dataset you can visit this link:\n",
    "https://scikit-learn.org/stable/datasets/index.html#breast-cancer-dataset<br/>\n",
    "This dataset contains 30 features and 1 label called target.\n",
    "The original dataset labels are 0 and 1 and in the following code boxes we change it to -1 and 1."
   ]
  },
  {
   "cell_type": "code",
   "execution_count": 2,
   "metadata": {
    "colab": {},
    "colab_type": "code",
    "id": "-7_g8ApcO7tm"
   },
   "outputs": [
    {
     "data": {
      "text/html": [
       "<div>\n",
       "<style scoped>\n",
       "    .dataframe tbody tr th:only-of-type {\n",
       "        vertical-align: middle;\n",
       "    }\n",
       "\n",
       "    .dataframe tbody tr th {\n",
       "        vertical-align: top;\n",
       "    }\n",
       "\n",
       "    .dataframe thead th {\n",
       "        text-align: right;\n",
       "    }\n",
       "</style>\n",
       "<table border=\"1\" class=\"dataframe\">\n",
       "  <thead>\n",
       "    <tr style=\"text-align: right;\">\n",
       "      <th></th>\n",
       "      <th>mean radius</th>\n",
       "      <th>mean texture</th>\n",
       "      <th>mean perimeter</th>\n",
       "      <th>mean area</th>\n",
       "      <th>mean smoothness</th>\n",
       "      <th>mean compactness</th>\n",
       "      <th>mean concavity</th>\n",
       "      <th>mean concave points</th>\n",
       "      <th>mean symmetry</th>\n",
       "      <th>mean fractal dimension</th>\n",
       "      <th>...</th>\n",
       "      <th>worst texture</th>\n",
       "      <th>worst perimeter</th>\n",
       "      <th>worst area</th>\n",
       "      <th>worst smoothness</th>\n",
       "      <th>worst compactness</th>\n",
       "      <th>worst concavity</th>\n",
       "      <th>worst concave points</th>\n",
       "      <th>worst symmetry</th>\n",
       "      <th>worst fractal dimension</th>\n",
       "      <th>target</th>\n",
       "    </tr>\n",
       "  </thead>\n",
       "  <tbody>\n",
       "    <tr>\n",
       "      <td>0</td>\n",
       "      <td>17.99</td>\n",
       "      <td>10.38</td>\n",
       "      <td>122.80</td>\n",
       "      <td>1001.0</td>\n",
       "      <td>0.11840</td>\n",
       "      <td>0.27760</td>\n",
       "      <td>0.3001</td>\n",
       "      <td>0.14710</td>\n",
       "      <td>0.2419</td>\n",
       "      <td>0.07871</td>\n",
       "      <td>...</td>\n",
       "      <td>17.33</td>\n",
       "      <td>184.60</td>\n",
       "      <td>2019.0</td>\n",
       "      <td>0.1622</td>\n",
       "      <td>0.6656</td>\n",
       "      <td>0.7119</td>\n",
       "      <td>0.2654</td>\n",
       "      <td>0.4601</td>\n",
       "      <td>0.11890</td>\n",
       "      <td>0.0</td>\n",
       "    </tr>\n",
       "    <tr>\n",
       "      <td>1</td>\n",
       "      <td>20.57</td>\n",
       "      <td>17.77</td>\n",
       "      <td>132.90</td>\n",
       "      <td>1326.0</td>\n",
       "      <td>0.08474</td>\n",
       "      <td>0.07864</td>\n",
       "      <td>0.0869</td>\n",
       "      <td>0.07017</td>\n",
       "      <td>0.1812</td>\n",
       "      <td>0.05667</td>\n",
       "      <td>...</td>\n",
       "      <td>23.41</td>\n",
       "      <td>158.80</td>\n",
       "      <td>1956.0</td>\n",
       "      <td>0.1238</td>\n",
       "      <td>0.1866</td>\n",
       "      <td>0.2416</td>\n",
       "      <td>0.1860</td>\n",
       "      <td>0.2750</td>\n",
       "      <td>0.08902</td>\n",
       "      <td>0.0</td>\n",
       "    </tr>\n",
       "    <tr>\n",
       "      <td>2</td>\n",
       "      <td>19.69</td>\n",
       "      <td>21.25</td>\n",
       "      <td>130.00</td>\n",
       "      <td>1203.0</td>\n",
       "      <td>0.10960</td>\n",
       "      <td>0.15990</td>\n",
       "      <td>0.1974</td>\n",
       "      <td>0.12790</td>\n",
       "      <td>0.2069</td>\n",
       "      <td>0.05999</td>\n",
       "      <td>...</td>\n",
       "      <td>25.53</td>\n",
       "      <td>152.50</td>\n",
       "      <td>1709.0</td>\n",
       "      <td>0.1444</td>\n",
       "      <td>0.4245</td>\n",
       "      <td>0.4504</td>\n",
       "      <td>0.2430</td>\n",
       "      <td>0.3613</td>\n",
       "      <td>0.08758</td>\n",
       "      <td>0.0</td>\n",
       "    </tr>\n",
       "    <tr>\n",
       "      <td>3</td>\n",
       "      <td>11.42</td>\n",
       "      <td>20.38</td>\n",
       "      <td>77.58</td>\n",
       "      <td>386.1</td>\n",
       "      <td>0.14250</td>\n",
       "      <td>0.28390</td>\n",
       "      <td>0.2414</td>\n",
       "      <td>0.10520</td>\n",
       "      <td>0.2597</td>\n",
       "      <td>0.09744</td>\n",
       "      <td>...</td>\n",
       "      <td>26.50</td>\n",
       "      <td>98.87</td>\n",
       "      <td>567.7</td>\n",
       "      <td>0.2098</td>\n",
       "      <td>0.8663</td>\n",
       "      <td>0.6869</td>\n",
       "      <td>0.2575</td>\n",
       "      <td>0.6638</td>\n",
       "      <td>0.17300</td>\n",
       "      <td>0.0</td>\n",
       "    </tr>\n",
       "    <tr>\n",
       "      <td>4</td>\n",
       "      <td>20.29</td>\n",
       "      <td>14.34</td>\n",
       "      <td>135.10</td>\n",
       "      <td>1297.0</td>\n",
       "      <td>0.10030</td>\n",
       "      <td>0.13280</td>\n",
       "      <td>0.1980</td>\n",
       "      <td>0.10430</td>\n",
       "      <td>0.1809</td>\n",
       "      <td>0.05883</td>\n",
       "      <td>...</td>\n",
       "      <td>16.67</td>\n",
       "      <td>152.20</td>\n",
       "      <td>1575.0</td>\n",
       "      <td>0.1374</td>\n",
       "      <td>0.2050</td>\n",
       "      <td>0.4000</td>\n",
       "      <td>0.1625</td>\n",
       "      <td>0.2364</td>\n",
       "      <td>0.07678</td>\n",
       "      <td>0.0</td>\n",
       "    </tr>\n",
       "  </tbody>\n",
       "</table>\n",
       "<p>5 rows × 31 columns</p>\n",
       "</div>"
      ],
      "text/plain": [
       "   mean radius  mean texture  mean perimeter  mean area  mean smoothness  \\\n",
       "0        17.99         10.38          122.80     1001.0          0.11840   \n",
       "1        20.57         17.77          132.90     1326.0          0.08474   \n",
       "2        19.69         21.25          130.00     1203.0          0.10960   \n",
       "3        11.42         20.38           77.58      386.1          0.14250   \n",
       "4        20.29         14.34          135.10     1297.0          0.10030   \n",
       "\n",
       "   mean compactness  mean concavity  mean concave points  mean symmetry  \\\n",
       "0           0.27760          0.3001              0.14710         0.2419   \n",
       "1           0.07864          0.0869              0.07017         0.1812   \n",
       "2           0.15990          0.1974              0.12790         0.2069   \n",
       "3           0.28390          0.2414              0.10520         0.2597   \n",
       "4           0.13280          0.1980              0.10430         0.1809   \n",
       "\n",
       "   mean fractal dimension  ...  worst texture  worst perimeter  worst area  \\\n",
       "0                 0.07871  ...          17.33           184.60      2019.0   \n",
       "1                 0.05667  ...          23.41           158.80      1956.0   \n",
       "2                 0.05999  ...          25.53           152.50      1709.0   \n",
       "3                 0.09744  ...          26.50            98.87       567.7   \n",
       "4                 0.05883  ...          16.67           152.20      1575.0   \n",
       "\n",
       "   worst smoothness  worst compactness  worst concavity  worst concave points  \\\n",
       "0            0.1622             0.6656           0.7119                0.2654   \n",
       "1            0.1238             0.1866           0.2416                0.1860   \n",
       "2            0.1444             0.4245           0.4504                0.2430   \n",
       "3            0.2098             0.8663           0.6869                0.2575   \n",
       "4            0.1374             0.2050           0.4000                0.1625   \n",
       "\n",
       "   worst symmetry  worst fractal dimension  target  \n",
       "0          0.4601                  0.11890     0.0  \n",
       "1          0.2750                  0.08902     0.0  \n",
       "2          0.3613                  0.08758     0.0  \n",
       "3          0.6638                  0.17300     0.0  \n",
       "4          0.2364                  0.07678     0.0  \n",
       "\n",
       "[5 rows x 31 columns]"
      ]
     },
     "execution_count": 2,
     "metadata": {},
     "output_type": "execute_result"
    }
   ],
   "source": [
    "cancer = load_breast_cancer()  ## change if the data set changed\n",
    "df = pd.DataFrame(np.c_[cancer[\"data\"], cancer[\"target\"]], columns = np.append(cancer[\"feature_names\"],[\"target\"]))\n",
    "features = ['mean radius', 'mean texture', 'mean perimeter', 'mean area', 'mean smoothness', 'mean compactness', 'mean concavity', 'mean concave points', 'mean symmetry', 'mean fractal dimension', 'radius error', 'texture error', 'perimeter error', 'area error', 'smoothness error', 'compactness error', 'concavity error', 'concave points error', 'symmetry error', 'fractal dimension error', 'worst radius', 'worst texture', 'worst perimeter', 'worst area', 'worst smoothness', 'worst compactness', 'worst concavity', 'worst concave points', 'worst symmetry', 'worst fractal dimension']\n",
    "df.head()"
   ]
  },
  {
   "cell_type": "code",
   "execution_count": 3,
   "metadata": {
    "colab": {},
    "colab_type": "code",
    "id": "jmmK95OVPDyg"
   },
   "outputs": [
    {
     "name": "stdout",
     "output_type": "stream",
     "text": [
      "69.94727592267135 %\n",
      "69.94727592267135 %\n",
      "20.035149384885763 %\n",
      "20.035149384885763 %\n",
      "10.017574692442881 %\n",
      "10.017574692442881 %\n"
     ]
    }
   ],
   "source": [
    "cancer.target = np.where(cancer.target==0, -1, cancer.target)\n",
    "X_train ,X_test ,X_val ,y_train ,y_test ,y_val = None ,None ,None ,None ,None ,None\n",
    "################################################################################\n",
    "# TODO:                                                                        #\n",
    "# 1- Normalize tha data.                                                       #\n",
    "# 2- using train_test_split package, split your data into 3 numpy array        #\n",
    "# called X_train, X_test, and X_val and also split the corresponding labels as #\n",
    "# y_train, y_test, and y_val. After spliting, the ratio of your data should be # \n",
    "# approximately like this:                                                     #\n",
    "#  Train : 70%     test : 20%       validation : 10%                           #\n",
    "################################################################################\n",
    "\n",
    "X, Y = cancer[\"data\"], cancer[\"target\"]\n",
    "X = (X - np.min(X, axis=0)) / (np.max(X, axis=0) - np.min(X, axis=0))\n",
    "\n",
    "X_train_validation, X_test, y_train_validation, y_test = train_test_split(X, Y, shuffle=True, test_size=0.2)\n",
    "X_train, X_val, y_train, y_val = train_test_split(X_train_validation, y_train_validation, test_size=1/8)\n",
    "\n",
    "################################################################################\n",
    "#                                 END OF YOUR CODE                             #\n",
    "################################################################################\n",
    "print((X_train.shape[0]/cancer.data.shape[0]) * 100, \"%\")\n",
    "print((y_train.shape[0]/cancer.data.shape[0]) * 100, \"%\")\n",
    "print((X_test.shape[0]/cancer.data.shape[0]) * 100, \"%\")\n",
    "print((y_test.shape[0]/cancer.data.shape[0]) * 100, \"%\")\n",
    "print((X_val.shape[0]/cancer.data.shape[0]) * 100, \"%\")\n",
    "print((y_val.shape[0]/cancer.data.shape[0]) * 100, \"%\")"
   ]
  },
  {
   "cell_type": "markdown",
   "metadata": {
    "colab_type": "text",
    "id": "EZ3-Fm4uPIdf"
   },
   "source": [
    "# Ensemble Methods\n",
    "\n",
    "## Problem 1. Bagging (15 points)\n"
   ]
  },
  {
   "cell_type": "code",
   "execution_count": 7,
   "metadata": {
    "colab": {},
    "colab_type": "code",
    "id": "ZzSuFIANPPRh"
   },
   "outputs": [],
   "source": [
    "from sklearn import model_selection \n",
    "from sklearn.ensemble import BaggingClassifier \n",
    "import sklearn\n",
    "from sklearn.tree import DecisionTreeClassifier \n",
    "\n",
    "\n",
    "################################################################################\n",
    "# TODO : initialize the base classifier. You can choose one of the classifiers #\n",
    "# you have learned in this course.(SVM/Decision tree)                          #\n",
    "# IMPORTANT: if you are using SVM as base classifier don't forget to add column#\n",
    "# of '1' s for bias and be careful to use the right dataset in next parts.      #\n",
    "################################################################################\n",
    "base_cls = DecisionTreeClassifier() "
   ]
  },
  {
   "cell_type": "code",
   "execution_count": 69,
   "metadata": {},
   "outputs": [
    {
     "data": {
      "image/png": "[encoded data removed]",
      "text/plain": [
       "<Figure size 432x288 with 1 Axes>"
      ]
     },
     "metadata": {
      "needs_background": "light"
     },
     "output_type": "display_data"
    },
    {
     "name": "stdout",
     "output_type": "stream",
     "text": [
      "Best Number of Classifiers is:\n",
      "6\n"
     ]
    },
    {
     "data": {
      "image/png": "[encoded data removed]",
      "text/plain": [
       "<Figure size 432x288 with 1 Axes>"
      ]
     },
     "metadata": {
      "needs_background": "light"
     },
     "output_type": "display_data"
    }
   ],
   "source": [
    "##################################################################################\n",
    "# TODO: Number of classifiers is a hyperparameter. Choose it by using validation #\n",
    "# data to have the best accuracy                                                 #\n",
    "# For different number of classifiers, train the model with training data and    #\n",
    "# compute accuracy for validation data. Plot accuracy-number of classifiers plot.#\n",
    "##################################################################################\n",
    "seed = 9\n",
    "\n",
    "num_cls_candidates = range(1, 100)\n",
    "loss_val_history = list()\n",
    "loss_history = list()\n",
    "for num_cls in num_cls_candidates:\n",
    "    model = BaggingClassifier(base_estimator = base_cls, \n",
    "                          n_estimators = num_cls, \n",
    "                          random_state = seed)\n",
    "    model.fit(X_train, y_train)\n",
    "    loss_history.append(0.5 * (np.sum(np.abs(model.predict(X_train) - y_train))))\n",
    "    loss_val_history.append(0.5 * (np.sum(np.abs(model.predict(X_val) - y_val))))\n",
    "\n",
    "\n",
    "plt.plot([i for i in num_cls_candidates], loss_history, label=\"Train\")\n",
    "plt.plot([i for i in num_cls_candidates], loss_val_history, label=\"Validation\")\n",
    "plt.legend(loc=\"upper right\")\n",
    "plt.xlabel(\"Number of Classifiers\")\n",
    "plt.ylabel(\"Loss\")\n",
    "plt.show()    \n",
    "\n",
    "num_cls = list(num_cls_candidates)[np.argmin(loss_val_history)]\n",
    "print(\"Best Number of Classifiers is:\")\n",
    "print(num_cls)\n",
    "\n",
    "plt.plot([i for i in num_cls_candidates], 1 - np.array(loss_history) / len(y_train), label=\"Train\")\n",
    "plt.plot([i for i in num_cls_candidates], 1 - np.array(loss_val_history)/ len(y_val), label=\"Validation\")\n",
    "plt.legend(loc=\"upper right\")\n",
    "plt.xlabel(\"Number of Classifiers\")\n",
    "plt.ylabel(\"Accuracy\")\n",
    "plt.show()   "
   ]
  },
  {
   "cell_type": "code",
   "execution_count": 70,
   "metadata": {},
   "outputs": [
    {
     "name": "stdout",
     "output_type": "stream",
     "text": [
      "Loss for Test Data is:\n",
      "6.0\n",
      "Accuracy for Test Data is:\n",
      "0.9473684210526316\n"
     ]
    }
   ],
   "source": [
    "model = BaggingClassifier(base_estimator = base_cls, \n",
    "                          n_estimators = num_cls, \n",
    "                          random_state = seed)\n",
    "model.fit(X_train,y_train)\n",
    "\n",
    "################################################################################\n",
    "# compute and report the accuracy for test data.                               #\n",
    "################################################################################\n",
    "print(\"Loss for Test Data is:\")\n",
    "loss = 0.5 * (np.sum(np.abs(model.predict(X_test) - y_test)))\n",
    "print(loss)\n",
    "print(\"Accuracy for Test Data is:\")\n",
    "accuracy = 1 - loss / len(y_test)\n",
    "print(accuracy)"
   ]
  },
  {
   "cell_type": "markdown",
   "metadata": {
    "colab_type": "text",
    "id": "ELyA0acXgK2w"
   },
   "source": [
    "## Problem 2. Random Forest(25 points)</br>\n",
    "In this part, you should write your own code to classify the data, using random forest from sklearn package in python."
   ]
  },
  {
   "cell_type": "code",
   "execution_count": 4,
   "metadata": {
    "colab": {},
    "colab_type": "code",
    "id": "JE4eKUybgQUb"
   },
   "outputs": [
    {
     "name": "stdout",
     "output_type": "stream",
     "text": [
      "Best number and depth of trees are shown below repectively:\n",
      "3 3\n"
     ]
    }
   ],
   "source": [
    "from sklearn.ensemble import RandomForestClassifier\n",
    "from sklearn.metrics import classification_report, confusion_matrix, accuracy_score\n",
    "#################################################################################\n",
    "# TODO:use the validation data to determine hyperparameters(number and depth of #\n",
    "# trees) for the best accuracy                                                  # \n",
    "#################################################################################\n",
    "\n",
    "seed = 9\n",
    "number_of_trees_candidates = list(range(1, 30))\n",
    "depth_of_trees_candidates = list(range(1, 30))\n",
    "loss_val_history = [[] for _ in range(len(number_of_trees_candidates))]\n",
    "loss_history = [[] for _ in range(len(number_of_trees_candidates))]\n",
    "for i, number_of_trees in enumerate(number_of_trees_candidates):\n",
    "    for depth_of_trees in depth_of_trees_candidates:\n",
    "        model = RandomForestClassifier(n_estimators=number_of_trees, max_depth=depth_of_trees)\n",
    "        model.fit(X_train, y_train)\n",
    "        loss_history[i].append(0.5 * (np.sum(np.abs(model.predict(X_train) - y_train))))\n",
    "        loss_val_history[i].append(0.5 * (np.sum(np.abs(model.predict(X_val) - y_val))))\n",
    "        \n",
    "loss_val_history, loss_history = np.array(loss_val_history), np.array(loss_history)\n",
    "best_number_of_trees_index, best_depth_of_trees_index = np.unravel_index(loss_val_history.argmin(), loss_val_history.shape)\n",
    "print(\"Best number and depth of trees are shown below repectively:\")\n",
    "number_of_trees, depth_of_trees = number_of_trees_candidates[best_number_of_trees_index], depth_of_trees_candidates[best_depth_of_trees_index]\n",
    "print(number_of_trees, depth_of_trees)"
   ]
  },
  {
   "cell_type": "code",
   "execution_count": 6,
   "metadata": {},
   "outputs": [
    {
     "name": "stdout",
     "output_type": "stream",
     "text": [
      "Train Data:\n",
      "Confusion Matrix is:\n",
      "{'T (+1)': 245, 'F (+1)': 8, 'T (-1)': 141, 'F (-1)': 4}\n",
      "Other metrics are evaluated as following:\n",
      "{'Recall': 1.0, 'Precision': 1.0, 'F1 Score': 1.0, 'Accuracy': 0.9698492462311558}\n",
      "Test Data:\n",
      "Confusion Matrix is:\n",
      "{'T (+1)': 73, 'F (+1)': 2, 'T (-1)': 36, 'F (-1)': 3}\n",
      "Other metrics are evaluated as following:\n",
      "{'Recall': 1.0, 'Precision': 1.0, 'F1 Score': 1.0, 'Accuracy': 0.956140350877193}\n"
     ]
    }
   ],
   "source": [
    "#######################################################################################\n",
    "#TODO:report accuracy, presition,recall and confusion matrix for train and test data  #\n",
    "#######################################################################################\n",
    "\n",
    "model = RandomForestClassifier(n_estimators=number_of_trees, max_depth=depth_of_trees)\n",
    "model.fit(X_train, y_train)\n",
    "\n",
    "def get_evaluation_metrics(Y_test, Y_pred):\n",
    "    TP, FP, TN, FN = 0, 0, 0, 0\n",
    "    P, N = 0, 0\n",
    "    for i, j in zip(Y_test, Y_pred):\n",
    "        if i == 1 and j == 1:\n",
    "            TP += 1\n",
    "            P += 1\n",
    "        elif i == 1 and j == 0:\n",
    "            FN += 1\n",
    "            P += 1\n",
    "        elif i == 0 and j == 1:\n",
    "            FP += 1\n",
    "            N += 1\n",
    "        elif i == 0 and j == 0:\n",
    "            TN += 1\n",
    "            N += 1\n",
    "    metrics = {\"TP\": TP, \"FP\": FP, \"TN\": TN, \"FN\": FN, \"P\":P, \"N\":N}\n",
    "    return metrics\n",
    "\n",
    "def get_confusion_matrix(Y_test, Y_pred):\n",
    "    TP, FP, TN, FN = 0, 0, 0, 0\n",
    "    for i, j in zip(Y_test, Y_pred):\n",
    "        if i == 1 and j == 1:\n",
    "            TP += 1\n",
    "        elif i == 1 and j == -1:\n",
    "            FN += 1\n",
    "        elif i == -1 and j == 1:\n",
    "            FP += 1\n",
    "        elif i == -1 and j == -1:\n",
    "            TN += 1\n",
    "    return {\"T (+1)\": TP, \"F (+1)\": FP, \"T (-1)\": TN, \"F (-1)\": FN}\n",
    "\n",
    "def get_accuracy(Y_test, Y_pred):\n",
    "    conf_matrix = get_confusion_matrix(Y_test, Y_pred)\n",
    "    return (conf_matrix[\"T (+1)\"] + conf_matrix[\"T (-1)\"]) / (conf_matrix[\"T (+1)\"] + conf_matrix[\"T (-1)\"] + conf_matrix[\"F (+1)\"] + conf_matrix[\"F (-1)\"])\n",
    "\n",
    "def get_classification_report(Y_test, Y_pred):\n",
    "    metrics = get_evaluation_metrics(Y_test, Y_pred)\n",
    "    report = {}\n",
    "    report[\"Recall\"] = metrics[\"TP\"] / metrics[\"P\"]\n",
    "    report[\"Precision\"] = metrics[\"TP\"] / (metrics[\"TP\"] + metrics[\"FP\"])\n",
    "    report[\"F1 Score\"] = 2 * metrics[\"TP\"] / (2 * metrics[\"TP\"] + metrics[\"FP\"] + metrics[\"FN\"])\n",
    "    report[\"Accuracy\"] = get_accuracy(Y_test, Y_pred)\n",
    "    return report\n",
    "\n",
    "y_pred = model.predict(X_train)\n",
    "print(\"Train Data:\")\n",
    "print(\"Confusion Matrix is:\")\n",
    "print(get_confusion_matrix(y_train, y_pred))\n",
    "\n",
    "print(\"Other metrics are evaluated as following:\")\n",
    "print(get_classification_report(y_train, y_pred))\n",
    "\n",
    "y_pred = model.predict(X_test)\n",
    "print(\"Test Data:\")\n",
    "print(\"Confusion Matrix is:\")\n",
    "print(get_confusion_matrix(y_test, y_pred))\n",
    "\n",
    "print(\"Other metrics are evaluated as following:\")\n",
    "print(get_classification_report(y_test, y_pred))\n"
   ]
  },
  {
   "cell_type": "markdown",
   "metadata": {
    "colab_type": "text",
    "id": "pSr7G0fdgmyf"
   },
   "source": [
    "Question:\n",
    "Explain how you did choose the hyperparameters.</br>"
   ]
  },
  {
   "cell_type": "markdown",
   "metadata": {
    "colab_type": "text",
    "id": "etxNZ36Ugnp7"
   },
   "source": [
    "Simply by doing a search over all of the possible choices of the possible values for the hyperparameters by evaluating the trained models using validation data and choosing the best hyperparameters available. Instead of this approach one might prefer do gridsearch or some other search to find the best ones. "
   ]
  },
  {
   "cell_type": "markdown",
   "metadata": {
    "colab_type": "text",
    "id": "fxpbM42MPg6m"
   },
   "source": [
    "## Problem 3. Boosting : AdaBoost (35 points)"
   ]
  },
  {
   "cell_type": "markdown",
   "metadata": {
    "colab_type": "text",
    "id": "rUodQdBvPrKQ"
   },
   "source": [
    "In this part you should implement adaptive boosting algorithm. </br>\n",
    "<picture>\n",
    "  <img src=\"http://uupload.ir/files/b919_adaboost.png\" alt=\"Adaboost\" width=\"600\" height=\"300\">\n",
    "</picture>\n",
    "\n"
   ]
  },
  {
   "cell_type": "code",
   "execution_count": 6,
   "metadata": {
    "colab": {},
    "colab_type": "code",
    "id": "r9TL5FGqRIoL"
   },
   "outputs": [
    {
     "name": "stdout",
     "output_type": "stream",
     "text": [
      "The training data accuracy is: 92.26756318108045 %\n",
      "The test data accuracy is: 90.52250865717583 %\n"
     ]
    }
   ],
   "source": [
    "from sklearn.tree import DecisionTreeClassifier\n",
    "from sklearn.model_selection import cross_validate\n",
    "X_train ,X_test ,y_train ,y_test = None ,None ,None ,None\n",
    "###################################################################\n",
    "# TODO: use 80% of normalized data as train and 20% as test data. #\n",
    "###################################################################\n",
    "\n",
    "X_train, X_test, y_train, y_test = train_test_split(X, Y, shuffle=True, test_size=0.2)\n",
    "\n",
    "######################################################################\n",
    "#TODO : define a weak decision tree.                                 #\n",
    "# initialize these parameters: criterion=\"entropy\" and max_depth = 1 #\n",
    "######################################################################\n",
    "Tree_model = DecisionTreeClassifier(criterion=\"entropy\" , max_depth = 1)\n",
    "#############################################################################################\n",
    "#TODO : report accuracy of your weak model on train and test data by using cross validation #\n",
    "#############################################################################################\n",
    "cv = 5\n",
    "cross_validate_model = cross_validate(Tree_model,X, Y, cv=cv,\n",
    "                                      return_estimator=True, return_train_score=True)\n",
    "train_accuracy = np.mean(cross_validate_model['train_score']) \n",
    "print('The training data accuracy is:' ,train_accuracy * 100 , '%')\n",
    "\n",
    "test_accuracy = np.mean(cross_validate_model['test_score']) \n",
    "print('The test data accuracy is:' ,test_accuracy * 100 , '%')"
   ]
  },
  {
   "cell_type": "code",
   "execution_count": 160,
   "metadata": {},
   "outputs": [],
   "source": [
    "seed = 10\n",
    "\n",
    "class AdaBoost:\n",
    "    def __init__(self,train_data_X,train_data_y,tree_num,test_data_X,test_data_y):\n",
    "        self.train_data_X = train_data_X\n",
    "        self.train_data_y = train_data_y\n",
    "        self.tree_num = tree_num\n",
    "        self.test_data_X = test_data_X\n",
    "        self.test_data_y = test_data_y\n",
    "        self.alphas = None\n",
    "        self.models = None\n",
    "        self.accuracy = []\n",
    "        self.predictions = None\n",
    "        \n",
    "    def fit(self):\n",
    "        Evaluation = pd.DataFrame(self.train_data_y.copy())\n",
    "        Evaluation.columns = ['target']\n",
    "        ## TODO:Set the initial weights w = 1/N\n",
    "        Evaluation['weights'] = [1 / len(self.train_data_y) for _ in range(len(self.train_data_y))] \n",
    "        \n",
    "        alphas = [] #list of alphas \n",
    "        models = [] # list of trained models\n",
    "        for t in range(self.tree_num):\n",
    "\n",
    "            ## TODO: create a weak decisiontree classifier\n",
    "            Tree_model = DecisionTreeClassifier(criterion=\"entropy\" , max_depth = 1, random_state = 0)\n",
    "            ## TODO: fit the model with train data. set the sample_weight parameter to the 'weights' columns in Evaluation dataframe\n",
    "            model = Tree_model.fit(self.train_data_X, self.train_data_y, sample_weight=np.array(Evaluation['weights']))\n",
    "            \n",
    "            models.append(model)\n",
    "            predictions = model.predict(self.train_data_X)\n",
    "            score = model.score(self.train_data_X,self.train_data_y)\n",
    "\n",
    "            ## Add this columns to the Evaluation DataFrame\n",
    "            Evaluation['predictions'] = predictions\n",
    "            ## TODO: In each row if the prediction and the target are equal,this column must be '1' and '0' O.W. \n",
    "            Evaluation['evaluation'] = np.equal(Evaluation['predictions'], Evaluation['target']).astype(int)\n",
    "            ## TODO: In each row if the tha data is missclassified, this column must be 1.\n",
    "            Evaluation['misclassified'] = np.not_equal(Evaluation['predictions'], Evaluation['target']).astype(int)\n",
    "\n",
    "            ## TODO: Calculate the misclassification rate and accuracy and then use them to calculate error\n",
    "            accuracy = np.mean(Evaluation['evaluation'])\n",
    "            misclassification = np.mean(Evaluation['misclassified'])\n",
    "            err = np.dot(Evaluation['misclassified'], Evaluation['weights'])\n",
    "            \n",
    "            ## TODO: Calculate the alpha values from the adaboost algorithm\n",
    "            alpha = np.log((1 - err) / err)\n",
    "            alphas.append(alpha)\n",
    "            ## TODO: update the weights\n",
    "            Evaluation['weights'] *= np.exp((alpha / 2)*Evaluation['misclassified'])\n",
    "            Evaluation['weights'] *= np.exp(-(alpha / 2)*Evaluation['evaluation'])\n",
    "            Evaluation['weights'] /= np.sum(Evaluation['weights'])﷼\n",
    "\n",
    "        self.alphas = alphas\n",
    "        self.models = models\n",
    "        \n",
    "        \n",
    "    def predict(self, train=False):\n",
    "        \n",
    "        accuracy = []\n",
    "        predictions = []\n",
    "        #####################################################################################\n",
    "        #TODO:                                                                              #\n",
    "        # 1- predict target for test data and append each prediction to the predictions list#\n",
    "        # 2- Create a list of accuracies which can be used to plot the accuracy against the #\n",
    "        # number of base learners used for the model                                        #\n",
    "        #####################################################################################\n",
    "        for alpha, model in zip(self.alphas, self.models):\n",
    "            if train:\n",
    "                prediction = model.predict(self.train_data_X) \n",
    "                predictions.append(alpha * prediction)\n",
    "                overall_prediction = np.sign(np.sum(np.array(predictions),axis=0))\n",
    "                accuracy.append(sklearn.metrics.accuracy_score(self.train_data_y, overall_prediction, normalize=True))\n",
    "            else:\n",
    "                prediction = model.predict(self.test_data_X) \n",
    "                predictions.append(alpha * prediction)\n",
    "                overall_prediction = np.sign(np.sum(np.array(predictions),axis=0))\n",
    "                accuracy.append(sklearn.metrics.accuracy_score(self.test_data_y, overall_prediction, normalize=True))\n",
    "\n",
    "            \n",
    "        self.predictions = np.sign(np.sum(np.array(predictions),axis=0))\n",
    "        return accuracy\n"
   ]
  },
  {
   "cell_type": "code",
   "execution_count": 161,
   "metadata": {
    "colab": {},
    "colab_type": "code",
    "id": "-by9WfOXRVQG"
   },
   "outputs": [
    {
     "name": "stdout",
     "output_type": "stream",
     "text": [
      "With a number of  100 base models we receive a training accuracy of  100.0 %\n",
      "With a number of  100 base models we receive a test accuracy of  99.12280701754386 %\n"
     ]
    },
    {
     "data": {
      "image/png": "[encoded data removed]",
      "text/plain": [
       "<Figure size 720x720 with 1 Axes>"
      ]
     },
     "metadata": {
      "needs_background": "light"
     },
     "output_type": "display_data"
    }
   ],
   "source": [
    "# Accuracy - number of base learners plot for training data\n",
    "\n",
    "number_of_base_learners = 100\n",
    "\n",
    "fig = plt.figure(figsize=(10,10))\n",
    "ax0 = fig.add_subplot(111)\n",
    "\n",
    "\n",
    "for i in range(number_of_base_learners):\n",
    "    model = AdaBoost(X_train,y_train,number_of_base_learners,X_test,y_test)\n",
    "    model.fit()\n",
    "    accuracy = model.predict(train=True)\n",
    "\n",
    "ax0.set_xlabel('# models used for Boosting ')\n",
    "ax0.set_ylabel('accuracy')\n",
    "\n",
    "ax0.plot(range(len(accuracy)),accuracy,'-b', label=\"Train\")\n",
    "print('With a number of ',number_of_base_learners,'base models we receive a training accuracy of ',accuracy[-1]*100,'%')    \n",
    "                   \n",
    "#################################################################### \n",
    "# TODO: Plot Accuracy - number of base learners plot for test data #\n",
    "####################################################################  \n",
    "\n",
    "accuracy = model.predict(train=False)\n",
    "\n",
    "ax0.plot(range(len(accuracy)),accuracy,'black', label=\"Test\")\n",
    "print('With a number of ',number_of_base_learners,'base models we receive a test accuracy of ',accuracy[-1]*100,'%')\n",
    "\n",
    "ax0.legend()\n",
    "plt.show()"
   ]
  },
  {
   "cell_type": "markdown",
   "metadata": {
    "colab_type": "text",
    "id": "2olecphWRi4L"
   },
   "source": [
    "# Feature Selction </br>\n",
    "\n",
    "## problem4. Filtering : correlation coefficient (25 points)\n"
   ]
  },
  {
   "cell_type": "code",
   "execution_count": 211,
   "metadata": {
    "colab": {},
    "colab_type": "code",
    "id": "oe0ynxveRmXS"
   },
   "outputs": [
    {
     "name": "stdout",
     "output_type": "stream",
     "text": [
      "Selected Features indices are: [ 0  2  3  5  6  7 10 12 13 20 22 23 25 26 27]\n",
      "Three less corralated features are: [25, 5, 26]\n",
      "Feature indices sorted by their weights are as following(Note that normalized data is used):\n",
      "[10, 21, 7, 28, 20, 6, 24, 27, 12, 9, 15, 1, 23, 13, 22, 26, 3, 0, 2, 19, 5, 4, 14, 16, 17, 8, 29, 11, 25, 18]\n",
      "Accuracy for Test Data is: 0.9649122807017544\n",
      "Accuracy for Test Data is Using Section 2 Features: 0.9210526315789473\n",
      "Accuracy for Test Data is Using Section 3 Features: 0.8421052631578947\n"
     ]
    }
   ],
   "source": [
    "################################################################################# \n",
    "# TODO:                                                                         #\n",
    "# use 80% of normalized data as train and 20% as test data.(just use the data   # \n",
    "# from last part)                                                               #\n",
    "# 1- compute the correlation coefficient between each feature and target.       #\n",
    "# 2- Report the features that their correlation is more than 0.5                #\n",
    "# 3- compute the correlation between the features you reported in 2nd           #\n",
    "# section and report features that their correlation with other features        #\n",
    "# is less than 0.5                                                              #\n",
    "# 4- use perceptron from sklearn package to classify the data. Report accurracy #\n",
    "# for test data and sort the features based on their weights in perceptron.     #\n",
    "# IMPORTANT: Don't forget to add 1s to the end of feature vectors to be         #\n",
    "# multiplied by bias term of weight in perceptron.                              #\n",
    "# 5- compare the features you reported in section 2 and 3 with the features     #\n",
    "# that have the most weights in perceptron and write your analysis below        #\n",
    "# 6 - Classify data with perceptron and use only the features you repoted in    # \n",
    "# section 2 and report accuracy for test data.                                  #\n",
    "# 7 - Do the same with section 3 and compare accuracies.                        #\n",
    "#################################################################################\n",
    "\n",
    "# 1- compute the correlation coefficient between each feature and target. \n",
    "featureVStarget_corrcoef = [np.corrcoef(X_train[:,i],y_train)[0,1] for i in range(len(X_train[0]))]\n",
    "# print(featureVStarget_corrcoef)\n",
    "\n",
    "# 2- Report the features that their correlation is more than 0.5\n",
    "featureVStarget_selected_features = np.where(np.abs(featureVStarget_corrcoef)>0.5)[0]\n",
    "print(\"Selected Features indices are:\" , featureVStarget_selected_features)\n",
    "\n",
    "# 3- compute the correlation between the features you reported in 2nd           #\n",
    "# section and report features that their correlation with other features        #\n",
    "# is less than 0.5  \n",
    "selected_features_corr_matrix = np.corrcoef(X_train[:, featureVStarget_selected_features], rowvar=False)\n",
    "evaluation_dict = {}\n",
    "for i, feature in enumerate(featureVStarget_selected_features):\n",
    "    evaluation_dict[feature] = np.sum(selected_features_corr_matrix[i] < 0.5)\n",
    "from operator import itemgetter\n",
    "less_correlated_features = list(reversed(sorted(evaluation_dict.items(), key=itemgetter(1))))[0:3]\n",
    "less_correlated_features = [i[0] for i in less_correlated_features]\n",
    "print(\"Three less corralated features are:\", less_correlated_features)\n",
    "\n",
    "# 4- use perceptron from sklearn package to classify the data. Report accurracy #\n",
    "# for test data and sort the features based on their weights in perceptron.     #\n",
    "# IMPORTANT: Don't forget to add 1s to the end of feature vectors to be         #\n",
    "# multiplied by bias term of weight in perceptron.\n",
    "from sklearn.linear_model import Perceptron\n",
    "train_x = np.append(X_train, np.ones((len(X_train), 1)), axis=1)\n",
    "test_x = np.append(X_test, np.ones((len(X_test), 1)), axis=1)\n",
    "clf = Perceptron()\n",
    "clf.fit(train_x, y_train)\n",
    "coef_tuples = [(np.abs((clf.coef_)[0][i]), i) for i in range(len(X_train[0]))]\n",
    "sorted_coefs_indices = [i[1] for i in sorted(coef_tuples, reverse=True)]\n",
    "print(\"Feature indices sorted by their weights are as following(Note that normalized data is used):\")\n",
    "print(sorted_coefs_indices)\n",
    "print(\"Accuracy for Test Data is:\", accuracy_score(clf.predict(test_x),y_test))\n",
    "\n",
    "# 5- compare the features you reported in section 2 and 3 with the features     #\n",
    "# that have the most weights in perceptron and write your analysis below        #\n",
    "\n",
    "########---- No Code is Needed. Notes can be found following the code section\n",
    "\n",
    "# 6 - Classify data with perceptron and use only the features you repoted in    # \n",
    "# section 2 and report accuracy for test data. \n",
    "train_x = np.append(X_train[:, featureVStarget_selected_features], np.ones((len(X_train), 1)), axis=1)\n",
    "test_x = np.append(X_test[:, featureVStarget_selected_features], np.ones((len(X_test), 1)), axis=1)\n",
    "clf = Perceptron()\n",
    "clf.fit(train_x, y_train)\n",
    "print(\"Accuracy for Test Data is Using Section 2 Features:\", accuracy_score(clf.predict(test_x),y_test))\n",
    "\n",
    "# 7 - Do the same with section 3 and compare accuracies. \n",
    "train_x = np.append(X_train[:, less_correlated_features], np.ones((len(X_train), 1)), axis=1)\n",
    "test_x = np.append(X_test[:, less_correlated_features], np.ones((len(X_test), 1)), axis=1)\n",
    "clf = Perceptron()\n",
    "clf.fit(train_x, y_train)\n",
    "print(\"Accuracy for Test Data is Using Section 3 Features:\", accuracy_score(clf.predict(test_x),y_test))\n"
   ]
  },
  {
   "cell_type": "markdown",
   "metadata": {
    "colab_type": "text",
    "id": "o0QJrI36-GNR"
   },
   "source": [
    "explanation of part 5 and 6:"
   ]
  },
  {
   "cell_type": "markdown",
   "metadata": {
    "colab_type": "text",
    "id": "iTC2KZ1h-QO6"
   },
   "source": [
    " Features selected in Section 2 & 3 are mostly the ones with the larger weights in Perceptron analysis. Noting that we used normalized data to fit Perceptron model, weights induced by this model are independent of scaling and more likely to be affected by corrspondence metrics like correlation."
   ]
  },
  {
   "cell_type": "markdown",
   "metadata": {
    "colab_type": "text",
    "id": "k_XG0iKSRqnE"
   },
   "source": [
    "Question: Is it important to extract features before classifying using methods like decision tree and SVM? why? "
   ]
  },
  {
   "cell_type": "markdown",
   "metadata": {
    "colab_type": "text",
    "id": "ro6v3JSBRsd5"
   },
   "source": [
    "Yes, for sure; As in this by even using such a simple model we have got nearly the same results using less number of variables by some preprocessing. Not only it's beneficial as it takes less computation cost and hardware to train approximately models as well as usual ones (using all the features) but also it reduces the model variance as these preprocessings will remove irrelevent and redundant features and decrease the chance of overfitting to data. Also it's worth mentioning that using less variables, more complex models can be trained without overffiting which kind of reduces model bias w.r.t same model variance. Morover, manipulating real data, interpreting less variables having low dependency is much easier than other cases."
   ]
  },
  {
   "cell_type": "markdown",
   "metadata": {
    "colab_type": "text",
    "id": "eQjRm5a6j8KZ"
   },
   "source": [
    "## problem 5. mRMR (10 bonus points) </br>\n",
    "In this part you should write your own code and classify the data using mRMR method.You can use \"pymrmr\" package for this part."
   ]
  },
  {
   "cell_type": "code",
   "execution_count": 16,
   "metadata": {
    "colab": {},
    "colab_type": "code",
    "id": "xQs-LPupRoDx",
    "scrolled": true
   },
   "outputs": [
    {
     "name": "stdout",
     "output_type": "stream",
     "text": [
      "['worst texture', 'worst compactness', 'compactness error', 'symmetry error', 'perimeter error', 'worst smoothness', 'smoothness error', 'worst concave points', 'worst symmetry', 'mean texture']\n"
     ]
    }
   ],
   "source": [
    "import pymrmr\n",
    "\n",
    "df2 = pd.DataFrame(np.concatenate((y_train.reshape(-1,1), X_train),axis=1), columns=[\"target\"] + features)\n",
    "selected_feature_indices = pymrmr.mRMR(df2, 'MIQ', 10)\n",
    "print(selected_feature_indices)"
   ]
  },
  {
   "cell_type": "code",
   "execution_count": 27,
   "metadata": {},
   "outputs": [
    {
     "name": "stdout",
     "output_type": "stream",
     "text": [
      "Confusion Matrix is:\n",
      "{'T (+1)': 73, 'F (+1)': 2, 'T (-1)': 38, 'F (-1)': 1}\n",
      "Other metrics are evaluated as following:\n",
      "{'Recall': 1.0, 'Precision': 1.0, 'F1 Score': 1.0, 'Accuracy': 0.9736842105263158}\n"
     ]
    }
   ],
   "source": [
    "from sklearn.ensemble import RandomForestClassifier\n",
    "\n",
    "selected_feature_names = ['worst texture', 'worst compactness', 'compactness error', 'symmetry error', 'perimeter error', 'worst smoothness', 'smoothness error', 'worst concave points', 'worst symmetry', 'mean texture']\n",
    "selected_features = [df.columns.get_loc(name) for name in selected_feature_names]\n",
    "model = RandomForestClassifier(n_estimators=20, max_depth=10)\n",
    "model.fit(X_train, y_train)\n",
    "y_pred = model.predict(X_test)\n",
    "\n",
    "def get_evaluation_metrics(Y_test, Y_pred):\n",
    "    TP, FP, TN, FN = 0, 0, 0, 0\n",
    "    P, N = 0, 0\n",
    "    for i, j in zip(Y_test, Y_pred):\n",
    "        if i == 1 and j == 1:\n",
    "            TP += 1\n",
    "            P += 1\n",
    "        elif i == 1 and j == 0:\n",
    "            FN += 1\n",
    "            P += 1\n",
    "        elif i == 0 and j == 1:\n",
    "            FP += 1\n",
    "            N += 1\n",
    "        elif i == 0 and j == 0:\n",
    "            TN += 1\n",
    "            N += 1\n",
    "    metrics = {\"TP\": TP, \"FP\": FP, \"TN\": TN, \"FN\": FN, \"P\":P, \"N\":N}\n",
    "    return metrics\n",
    "\n",
    "def get_confusion_matrix(Y_test, Y_pred):\n",
    "    TP, FP, TN, FN = 0, 0, 0, 0\n",
    "    for i, j in zip(Y_test, Y_pred):\n",
    "        if i == 1 and j == 1:\n",
    "            TP += 1\n",
    "        elif i == 1 and j == -1:\n",
    "            FN += 1\n",
    "        elif i == -1 and j == 1:\n",
    "            FP += 1\n",
    "        elif i == -1 and j == -1:\n",
    "            TN += 1\n",
    "    return {\"T (+1)\": TP, \"F (+1)\": FP, \"T (-1)\": TN, \"F (-1)\": FN}\n",
    "\n",
    "def get_accuracy(Y_test, Y_pred):\n",
    "    conf_matrix = get_confusion_matrix(Y_test, Y_pred)\n",
    "    return (conf_matrix[\"T (+1)\"] + conf_matrix[\"T (-1)\"]) / (conf_matrix[\"T (+1)\"] + conf_matrix[\"T (-1)\"] + conf_matrix[\"F (+1)\"] + conf_matrix[\"F (-1)\"])\n",
    "\n",
    "def get_classification_report(Y_test, Y_pred):\n",
    "    metrics = get_evaluation_metrics(Y_test, Y_pred)\n",
    "    report = {}\n",
    "    report[\"Recall\"] = metrics[\"TP\"] / metrics[\"P\"]\n",
    "    report[\"Precision\"] = metrics[\"TP\"] / (metrics[\"TP\"] + metrics[\"FP\"])\n",
    "    report[\"F1 Score\"] = 2 * metrics[\"TP\"] / (2 * metrics[\"TP\"] + metrics[\"FP\"] + metrics[\"FN\"])\n",
    "    report[\"Accuracy\"] = get_accuracy(Y_test, Y_pred)\n",
    "    return report\n",
    "\n",
    "print(\"Confusion Matrix is:\")\n",
    "print(get_confusion_matrix(y_test, y_pred))\n",
    "\n",
    "print(\"Other metrics are evaluated as following:\")\n",
    "print(get_classification_report(y_test, y_pred))\n"
   ]
  }
 ],
 "metadata": {
  "colab": {
   "collapsed_sections": [],
   "name": "MLBio_HW3_P.ipynb",
   "provenance": []
  },
  "kernelspec": {
   "display_name": "Python 3",
   "language": "python",
   "name": "python3"
  },
  "language_info": {
   "codemirror_mode": {
    "name": "ipython",
    "version": 3
   },
   "file_extension": ".py",
   "mimetype": "text/x-python",
   "name": "python",
   "nbconvert_exporter": "python",
   "pygments_lexer": "ipython3",
   "version": "3.7.4"
  }
 },
 "nbformat": 4,
 "nbformat_minor": 1
}
