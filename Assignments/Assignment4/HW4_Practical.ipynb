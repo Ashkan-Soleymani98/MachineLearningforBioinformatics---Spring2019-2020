{
 "cells": [
  {
   "cell_type": "markdown",
   "metadata": {
    "colab_type": "text",
    "id": "uvXSx2_9qxMn"
   },
   "source": [
    "#  Machine Learning for Bioinformatics\n",
    "## Practical Homework No.4 (100 points)"
   ]
  },
  {
   "cell_type": "markdown",
   "metadata": {
    "colab_type": "text",
    "id": "kXhZtIIaq69Y"
   },
   "source": [
    "#### Name: Ashkan Soleymani\n",
    "#### Student No.: 95105635\n"
   ]
  },
  {
   "cell_type": "markdown",
   "metadata": {
    "colab_type": "text",
    "id": "OTQVem0I8SgS"
   },
   "source": [
    "## Imports"
   ]
  },
  {
   "cell_type": "markdown",
   "metadata": {
    "colab_type": "text",
    "id": "JgyrjEtdKY4k"
   },
   "source": [
    "run below cell to import necessary libraries. You are only allowed to use these libraries"
   ]
  },
  {
   "cell_type": "code",
   "execution_count": 389,
   "metadata": {
    "colab": {},
    "colab_type": "code",
    "id": "X4CELfLm8UpR"
   },
   "outputs": [],
   "source": [
    "import pandas as pd\n",
    "import numpy as np\n",
    "import matplotlib.pyplot as plt\n",
    "%matplotlib inline\n",
    "import seaborn as sns\n",
    "from sklearn.manifold import TSNE\n",
    "from sklearn.decomposition import PCA\n",
    "\n",
    "sns.set(rc={'figure.figsize':(11.7,8.27)})\n",
    "palette = sns.color_palette(\"bright\", 2)\n",
    "\n"
   ]
  },
  {
   "cell_type": "markdown",
   "metadata": {
    "colab_type": "text",
    "id": "hVgBVxJ4rqw3"
   },
   "source": [
    "## Dataset (10 points)"
   ]
  },
  {
   "cell_type": "markdown",
   "metadata": {
    "colab_type": "text",
    "id": "gSsTXPNcKPl-"
   },
   "source": [
    "This dataset comes from a proof-of-concept study published in 1999 by Golub et al. It showed how new cases of cancer could be classified by gene expression monitoring (via DNA microarray) and thereby provided a general approach for identifying new cancer classes and assigning tumors to known classes. These data were used to classify patients with acute myeloid leukemia (AML) and acute lymphoblastic leukemia (ALL)."
   ]
  },
  {
   "cell_type": "code",
   "execution_count": 390,
   "metadata": {
    "colab": {},
    "colab_type": "code",
    "id": "ICKMn_n9rtkv"
   },
   "outputs": [
    {
     "data": {
      "text/html": [
       "<div>\n",
       "<style scoped>\n",
       "    .dataframe tbody tr th:only-of-type {\n",
       "        vertical-align: middle;\n",
       "    }\n",
       "\n",
       "    .dataframe tbody tr th {\n",
       "        vertical-align: top;\n",
       "    }\n",
       "\n",
       "    .dataframe thead th {\n",
       "        text-align: right;\n",
       "    }\n",
       "</style>\n",
       "<table border=\"1\" class=\"dataframe\">\n",
       "  <thead>\n",
       "    <tr style=\"text-align: right;\">\n",
       "      <th></th>\n",
       "      <th>Gene Description</th>\n",
       "      <th>Gene Accession Number</th>\n",
       "      <th>1</th>\n",
       "      <th>2</th>\n",
       "      <th>3</th>\n",
       "      <th>4</th>\n",
       "      <th>5</th>\n",
       "      <th>6</th>\n",
       "      <th>7</th>\n",
       "      <th>8</th>\n",
       "      <th>...</th>\n",
       "      <th>57</th>\n",
       "      <th>58</th>\n",
       "      <th>60</th>\n",
       "      <th>61</th>\n",
       "      <th>65</th>\n",
       "      <th>66</th>\n",
       "      <th>63</th>\n",
       "      <th>64</th>\n",
       "      <th>62</th>\n",
       "      <th>72</th>\n",
       "    </tr>\n",
       "  </thead>\n",
       "  <tbody>\n",
       "    <tr>\n",
       "      <td>0</td>\n",
       "      <td>AFFX-BioB-5_at (endogenous control)</td>\n",
       "      <td>AFFX-BioB-5_at</td>\n",
       "      <td>-214</td>\n",
       "      <td>-139</td>\n",
       "      <td>-76</td>\n",
       "      <td>-135</td>\n",
       "      <td>-106</td>\n",
       "      <td>-138</td>\n",
       "      <td>-72</td>\n",
       "      <td>-413</td>\n",
       "      <td>...</td>\n",
       "      <td>-137</td>\n",
       "      <td>-157</td>\n",
       "      <td>-172</td>\n",
       "      <td>-47</td>\n",
       "      <td>-62</td>\n",
       "      <td>-58</td>\n",
       "      <td>-161</td>\n",
       "      <td>-48</td>\n",
       "      <td>-176</td>\n",
       "      <td>-131</td>\n",
       "    </tr>\n",
       "    <tr>\n",
       "      <td>1</td>\n",
       "      <td>AFFX-BioB-M_at (endogenous control)</td>\n",
       "      <td>AFFX-BioB-M_at</td>\n",
       "      <td>-153</td>\n",
       "      <td>-73</td>\n",
       "      <td>-49</td>\n",
       "      <td>-114</td>\n",
       "      <td>-125</td>\n",
       "      <td>-85</td>\n",
       "      <td>-144</td>\n",
       "      <td>-260</td>\n",
       "      <td>...</td>\n",
       "      <td>-51</td>\n",
       "      <td>-370</td>\n",
       "      <td>-122</td>\n",
       "      <td>-442</td>\n",
       "      <td>-198</td>\n",
       "      <td>-217</td>\n",
       "      <td>-215</td>\n",
       "      <td>-531</td>\n",
       "      <td>-284</td>\n",
       "      <td>-126</td>\n",
       "    </tr>\n",
       "    <tr>\n",
       "      <td>2</td>\n",
       "      <td>AFFX-BioB-3_at (endogenous control)</td>\n",
       "      <td>AFFX-BioB-3_at</td>\n",
       "      <td>-58</td>\n",
       "      <td>-1</td>\n",
       "      <td>-307</td>\n",
       "      <td>265</td>\n",
       "      <td>-76</td>\n",
       "      <td>215</td>\n",
       "      <td>238</td>\n",
       "      <td>7</td>\n",
       "      <td>...</td>\n",
       "      <td>-82</td>\n",
       "      <td>-77</td>\n",
       "      <td>38</td>\n",
       "      <td>-21</td>\n",
       "      <td>-5</td>\n",
       "      <td>63</td>\n",
       "      <td>-46</td>\n",
       "      <td>-124</td>\n",
       "      <td>-81</td>\n",
       "      <td>-50</td>\n",
       "    </tr>\n",
       "    <tr>\n",
       "      <td>3</td>\n",
       "      <td>AFFX-BioC-5_at (endogenous control)</td>\n",
       "      <td>AFFX-BioC-5_at</td>\n",
       "      <td>88</td>\n",
       "      <td>283</td>\n",
       "      <td>309</td>\n",
       "      <td>12</td>\n",
       "      <td>168</td>\n",
       "      <td>71</td>\n",
       "      <td>55</td>\n",
       "      <td>-2</td>\n",
       "      <td>...</td>\n",
       "      <td>178</td>\n",
       "      <td>340</td>\n",
       "      <td>31</td>\n",
       "      <td>396</td>\n",
       "      <td>141</td>\n",
       "      <td>95</td>\n",
       "      <td>146</td>\n",
       "      <td>431</td>\n",
       "      <td>9</td>\n",
       "      <td>211</td>\n",
       "    </tr>\n",
       "    <tr>\n",
       "      <td>4</td>\n",
       "      <td>AFFX-BioC-3_at (endogenous control)</td>\n",
       "      <td>AFFX-BioC-3_at</td>\n",
       "      <td>-295</td>\n",
       "      <td>-264</td>\n",
       "      <td>-376</td>\n",
       "      <td>-419</td>\n",
       "      <td>-230</td>\n",
       "      <td>-272</td>\n",
       "      <td>-399</td>\n",
       "      <td>-541</td>\n",
       "      <td>...</td>\n",
       "      <td>-135</td>\n",
       "      <td>-438</td>\n",
       "      <td>-201</td>\n",
       "      <td>-351</td>\n",
       "      <td>-256</td>\n",
       "      <td>-191</td>\n",
       "      <td>-172</td>\n",
       "      <td>-496</td>\n",
       "      <td>-294</td>\n",
       "      <td>-206</td>\n",
       "    </tr>\n",
       "  </tbody>\n",
       "</table>\n",
       "<p>5 rows × 74 columns</p>\n",
       "</div>"
      ],
      "text/plain": [
       "                      Gene Description Gene Accession Number    1    2    3  \\\n",
       "0  AFFX-BioB-5_at (endogenous control)        AFFX-BioB-5_at -214 -139  -76   \n",
       "1  AFFX-BioB-M_at (endogenous control)        AFFX-BioB-M_at -153  -73  -49   \n",
       "2  AFFX-BioB-3_at (endogenous control)        AFFX-BioB-3_at  -58   -1 -307   \n",
       "3  AFFX-BioC-5_at (endogenous control)        AFFX-BioC-5_at   88  283  309   \n",
       "4  AFFX-BioC-3_at (endogenous control)        AFFX-BioC-3_at -295 -264 -376   \n",
       "\n",
       "     4    5    6    7    8  ...   57   58   60   61   65   66   63   64   62  \\\n",
       "0 -135 -106 -138  -72 -413  ... -137 -157 -172  -47  -62  -58 -161  -48 -176   \n",
       "1 -114 -125  -85 -144 -260  ...  -51 -370 -122 -442 -198 -217 -215 -531 -284   \n",
       "2  265  -76  215  238    7  ...  -82  -77   38  -21   -5   63  -46 -124  -81   \n",
       "3   12  168   71   55   -2  ...  178  340   31  396  141   95  146  431    9   \n",
       "4 -419 -230 -272 -399 -541  ... -135 -438 -201 -351 -256 -191 -172 -496 -294   \n",
       "\n",
       "    72  \n",
       "0 -131  \n",
       "1 -126  \n",
       "2  -50  \n",
       "3  211  \n",
       "4 -206  \n",
       "\n",
       "[5 rows x 74 columns]"
      ]
     },
     "execution_count": 390,
     "metadata": {},
     "output_type": "execute_result"
    }
   ],
   "source": [
    "#####################################################################################\n",
    "#                          COMPLETE THE FOLLOWING SECTION                           #\n",
    "#####################################################################################\n",
    "# load all data using pandas. \n",
    "# DataSet.csv as train dataset.\n",
    "# labels.csv as data labels.\n",
    "# And Drop columns including call name as these columns as it doesn't have any \n",
    "# statistical relevance\n",
    "##################################################################################### \n",
    "Train_Data = pd.read_csv(\"DataSet.csv\")\n",
    "labels = pd.read_csv(\"labels.csv\")\n",
    "####################################################################################\n",
    "#                                   THE END                                        #\n",
    "####################################################################################  \n",
    "Train_Data.head()\n"
   ]
  },
  {
   "cell_type": "markdown",
   "metadata": {
    "colab_type": "text",
    "id": "yEVNpveEPL58"
   },
   "source": [
    "Here we go to pre process the data for pca analysis. do these steps one by one"
   ]
  },
  {
   "cell_type": "code",
   "execution_count": 391,
   "metadata": {
    "colab": {},
    "colab_type": "code",
    "id": "O5PpJg558njC"
   },
   "outputs": [],
   "source": [
    "#####################################################################################\n",
    "#                          COMPLETE THE FOLLOWING SECTION                           #\n",
    "#####################################################################################\n",
    "# Drop Gene Description and Gene Accession Number to have a numeric matrix.\n",
    "# the result should be stored in train variable.\n",
    "#####################################################################################\n",
    "train = Train_Data.drop([\"Gene Description\", \"Gene Accession Number\"],axis=1)\n",
    "####################################################################################\n",
    "#                                   THE END                                        #\n",
    "####################################################################################  \n",
    "train.index = pd.to_numeric(train.index)\n",
    "train.sort_index(inplace=True)\n"
   ]
  },
  {
   "cell_type": "markdown",
   "metadata": {
    "colab_type": "text",
    "id": "gppaxpk-RtXD"
   },
   "source": [
    "## Variable Selection\n",
    "\n",
    "To reduce the computation costs, instead of working on all 20184 genes present in the dataset, we will focus on 1000 genes that have the most variance."
   ]
  },
  {
   "cell_type": "code",
   "execution_count": 392,
   "metadata": {
    "colab": {},
    "colab_type": "code",
    "id": "ajzcaXDXRr-P"
   },
   "outputs": [
    {
     "data": {
      "text/html": [
       "<div>\n",
       "<style scoped>\n",
       "    .dataframe tbody tr th:only-of-type {\n",
       "        vertical-align: middle;\n",
       "    }\n",
       "\n",
       "    .dataframe tbody tr th {\n",
       "        vertical-align: top;\n",
       "    }\n",
       "\n",
       "    .dataframe thead th {\n",
       "        text-align: right;\n",
       "    }\n",
       "</style>\n",
       "<table border=\"1\" class=\"dataframe\">\n",
       "  <thead>\n",
       "    <tr style=\"text-align: right;\">\n",
       "      <th></th>\n",
       "      <th>7037</th>\n",
       "      <th>2048</th>\n",
       "      <th>6076</th>\n",
       "      <th>1267</th>\n",
       "      <th>6567</th>\n",
       "      <th>4864</th>\n",
       "      <th>1198</th>\n",
       "      <th>5923</th>\n",
       "      <th>6372</th>\n",
       "      <th>1569</th>\n",
       "      <th>...</th>\n",
       "      <th>4016</th>\n",
       "      <th>6223</th>\n",
       "      <th>1221</th>\n",
       "      <th>5228</th>\n",
       "      <th>5647</th>\n",
       "      <th>1867</th>\n",
       "      <th>5506</th>\n",
       "      <th>18</th>\n",
       "      <th>5710</th>\n",
       "      <th>5709</th>\n",
       "    </tr>\n",
       "  </thead>\n",
       "  <tbody>\n",
       "    <tr>\n",
       "      <td>1</td>\n",
       "      <td>1183</td>\n",
       "      <td>1917</td>\n",
       "      <td>730</td>\n",
       "      <td>536</td>\n",
       "      <td>1624</td>\n",
       "      <td>788</td>\n",
       "      <td>-796</td>\n",
       "      <td>509</td>\n",
       "      <td>695</td>\n",
       "      <td>443</td>\n",
       "      <td>...</td>\n",
       "      <td>19748</td>\n",
       "      <td>-113</td>\n",
       "      <td>20764</td>\n",
       "      <td>8656</td>\n",
       "      <td>31086</td>\n",
       "      <td>-272</td>\n",
       "      <td>21011</td>\n",
       "      <td>15091</td>\n",
       "      <td>17962</td>\n",
       "      <td>17602</td>\n",
       "    </tr>\n",
       "    <tr>\n",
       "      <td>2</td>\n",
       "      <td>1434</td>\n",
       "      <td>1603</td>\n",
       "      <td>131</td>\n",
       "      <td>1258</td>\n",
       "      <td>238</td>\n",
       "      <td>1691</td>\n",
       "      <td>-970</td>\n",
       "      <td>286</td>\n",
       "      <td>812</td>\n",
       "      <td>389</td>\n",
       "      <td>...</td>\n",
       "      <td>7657</td>\n",
       "      <td>4452</td>\n",
       "      <td>17636</td>\n",
       "      <td>13285</td>\n",
       "      <td>29288</td>\n",
       "      <td>-194</td>\n",
       "      <td>25240</td>\n",
       "      <td>11038</td>\n",
       "      <td>16964</td>\n",
       "      <td>9868</td>\n",
       "    </tr>\n",
       "    <tr>\n",
       "      <td>3</td>\n",
       "      <td>2022</td>\n",
       "      <td>3200</td>\n",
       "      <td>91</td>\n",
       "      <td>2098</td>\n",
       "      <td>1081</td>\n",
       "      <td>1029</td>\n",
       "      <td>-2111</td>\n",
       "      <td>610</td>\n",
       "      <td>810</td>\n",
       "      <td>443</td>\n",
       "      <td>...</td>\n",
       "      <td>1032</td>\n",
       "      <td>775</td>\n",
       "      <td>23324</td>\n",
       "      <td>15704</td>\n",
       "      <td>14835</td>\n",
       "      <td>-79</td>\n",
       "      <td>14950</td>\n",
       "      <td>16692</td>\n",
       "      <td>23436</td>\n",
       "      <td>28056</td>\n",
       "    </tr>\n",
       "    <tr>\n",
       "      <td>4</td>\n",
       "      <td>2615</td>\n",
       "      <td>1416</td>\n",
       "      <td>49</td>\n",
       "      <td>254</td>\n",
       "      <td>1223</td>\n",
       "      <td>695</td>\n",
       "      <td>-1555</td>\n",
       "      <td>294</td>\n",
       "      <td>599</td>\n",
       "      <td>509</td>\n",
       "      <td>...</td>\n",
       "      <td>13356</td>\n",
       "      <td>157</td>\n",
       "      <td>21733</td>\n",
       "      <td>15691</td>\n",
       "      <td>25421</td>\n",
       "      <td>-300</td>\n",
       "      <td>31449</td>\n",
       "      <td>15763</td>\n",
       "      <td>22240</td>\n",
       "      <td>23812</td>\n",
       "    </tr>\n",
       "    <tr>\n",
       "      <td>5</td>\n",
       "      <td>924</td>\n",
       "      <td>1749</td>\n",
       "      <td>0</td>\n",
       "      <td>127</td>\n",
       "      <td>761</td>\n",
       "      <td>1627</td>\n",
       "      <td>-331</td>\n",
       "      <td>375</td>\n",
       "      <td>282</td>\n",
       "      <td>35</td>\n",
       "      <td>...</td>\n",
       "      <td>13769</td>\n",
       "      <td>2175</td>\n",
       "      <td>20332</td>\n",
       "      <td>3390</td>\n",
       "      <td>29543</td>\n",
       "      <td>-157</td>\n",
       "      <td>12606</td>\n",
       "      <td>18128</td>\n",
       "      <td>5472</td>\n",
       "      <td>3553</td>\n",
       "    </tr>\n",
       "    <tr>\n",
       "      <td>...</td>\n",
       "      <td>...</td>\n",
       "      <td>...</td>\n",
       "      <td>...</td>\n",
       "      <td>...</td>\n",
       "      <td>...</td>\n",
       "      <td>...</td>\n",
       "      <td>...</td>\n",
       "      <td>...</td>\n",
       "      <td>...</td>\n",
       "      <td>...</td>\n",
       "      <td>...</td>\n",
       "      <td>...</td>\n",
       "      <td>...</td>\n",
       "      <td>...</td>\n",
       "      <td>...</td>\n",
       "      <td>...</td>\n",
       "      <td>...</td>\n",
       "      <td>...</td>\n",
       "      <td>...</td>\n",
       "      <td>...</td>\n",
       "      <td>...</td>\n",
       "    </tr>\n",
       "    <tr>\n",
       "      <td>66</td>\n",
       "      <td>778</td>\n",
       "      <td>389</td>\n",
       "      <td>71</td>\n",
       "      <td>49</td>\n",
       "      <td>588</td>\n",
       "      <td>1219</td>\n",
       "      <td>-373</td>\n",
       "      <td>458</td>\n",
       "      <td>226</td>\n",
       "      <td>375</td>\n",
       "      <td>...</td>\n",
       "      <td>3670</td>\n",
       "      <td>410</td>\n",
       "      <td>37795</td>\n",
       "      <td>29136</td>\n",
       "      <td>24407</td>\n",
       "      <td>58</td>\n",
       "      <td>3946</td>\n",
       "      <td>39323</td>\n",
       "      <td>33833</td>\n",
       "      <td>53204</td>\n",
       "    </tr>\n",
       "    <tr>\n",
       "      <td>63</td>\n",
       "      <td>1590</td>\n",
       "      <td>1484</td>\n",
       "      <td>107</td>\n",
       "      <td>312</td>\n",
       "      <td>1518</td>\n",
       "      <td>3280</td>\n",
       "      <td>-167</td>\n",
       "      <td>531</td>\n",
       "      <td>2063</td>\n",
       "      <td>416</td>\n",
       "      <td>...</td>\n",
       "      <td>21350</td>\n",
       "      <td>17505</td>\n",
       "      <td>20306</td>\n",
       "      <td>-52</td>\n",
       "      <td>31585</td>\n",
       "      <td>-398</td>\n",
       "      <td>25367</td>\n",
       "      <td>15689</td>\n",
       "      <td>77</td>\n",
       "      <td>32</td>\n",
       "    </tr>\n",
       "    <tr>\n",
       "      <td>64</td>\n",
       "      <td>2453</td>\n",
       "      <td>2605</td>\n",
       "      <td>70</td>\n",
       "      <td>284</td>\n",
       "      <td>2334</td>\n",
       "      <td>1726</td>\n",
       "      <td>-284</td>\n",
       "      <td>105</td>\n",
       "      <td>1580</td>\n",
       "      <td>-13</td>\n",
       "      <td>...</td>\n",
       "      <td>10640</td>\n",
       "      <td>-154</td>\n",
       "      <td>49267</td>\n",
       "      <td>252</td>\n",
       "      <td>17789</td>\n",
       "      <td>252</td>\n",
       "      <td>71369</td>\n",
       "      <td>41570</td>\n",
       "      <td>780</td>\n",
       "      <td>382</td>\n",
       "    </tr>\n",
       "    <tr>\n",
       "      <td>62</td>\n",
       "      <td>1223</td>\n",
       "      <td>1427</td>\n",
       "      <td>37</td>\n",
       "      <td>53</td>\n",
       "      <td>1663</td>\n",
       "      <td>1663</td>\n",
       "      <td>593</td>\n",
       "      <td>634</td>\n",
       "      <td>1962</td>\n",
       "      <td>257</td>\n",
       "      <td>...</td>\n",
       "      <td>27467</td>\n",
       "      <td>17626</td>\n",
       "      <td>41778</td>\n",
       "      <td>5347</td>\n",
       "      <td>29775</td>\n",
       "      <td>-97</td>\n",
       "      <td>48374</td>\n",
       "      <td>39538</td>\n",
       "      <td>11055</td>\n",
       "      <td>7531</td>\n",
       "    </tr>\n",
       "    <tr>\n",
       "      <td>72</td>\n",
       "      <td>1151</td>\n",
       "      <td>1239</td>\n",
       "      <td>1078</td>\n",
       "      <td>494</td>\n",
       "      <td>1145</td>\n",
       "      <td>1167</td>\n",
       "      <td>-351</td>\n",
       "      <td>245</td>\n",
       "      <td>358</td>\n",
       "      <td>151</td>\n",
       "      <td>...</td>\n",
       "      <td>22970</td>\n",
       "      <td>389</td>\n",
       "      <td>27087</td>\n",
       "      <td>15505</td>\n",
       "      <td>32358</td>\n",
       "      <td>746</td>\n",
       "      <td>17061</td>\n",
       "      <td>23462</td>\n",
       "      <td>23314</td>\n",
       "      <td>27457</td>\n",
       "    </tr>\n",
       "  </tbody>\n",
       "</table>\n",
       "<p>72 rows × 1000 columns</p>\n",
       "</div>"
      ],
      "text/plain": [
       "    7037  2048  6076  1267  6567  4864  1198  5923  6372  1569  ...   4016  \\\n",
       "1   1183  1917   730   536  1624   788  -796   509   695   443  ...  19748   \n",
       "2   1434  1603   131  1258   238  1691  -970   286   812   389  ...   7657   \n",
       "3   2022  3200    91  2098  1081  1029 -2111   610   810   443  ...   1032   \n",
       "4   2615  1416    49   254  1223   695 -1555   294   599   509  ...  13356   \n",
       "5    924  1749     0   127   761  1627  -331   375   282    35  ...  13769   \n",
       "..   ...   ...   ...   ...   ...   ...   ...   ...   ...   ...  ...    ...   \n",
       "66   778   389    71    49   588  1219  -373   458   226   375  ...   3670   \n",
       "63  1590  1484   107   312  1518  3280  -167   531  2063   416  ...  21350   \n",
       "64  2453  2605    70   284  2334  1726  -284   105  1580   -13  ...  10640   \n",
       "62  1223  1427    37    53  1663  1663   593   634  1962   257  ...  27467   \n",
       "72  1151  1239  1078   494  1145  1167  -351   245   358   151  ...  22970   \n",
       "\n",
       "     6223   1221   5228   5647  1867   5506   18     5710   5709  \n",
       "1    -113  20764   8656  31086  -272  21011  15091  17962  17602  \n",
       "2    4452  17636  13285  29288  -194  25240  11038  16964   9868  \n",
       "3     775  23324  15704  14835   -79  14950  16692  23436  28056  \n",
       "4     157  21733  15691  25421  -300  31449  15763  22240  23812  \n",
       "5    2175  20332   3390  29543  -157  12606  18128   5472   3553  \n",
       "..    ...    ...    ...    ...   ...    ...    ...    ...    ...  \n",
       "66    410  37795  29136  24407    58   3946  39323  33833  53204  \n",
       "63  17505  20306    -52  31585  -398  25367  15689     77     32  \n",
       "64   -154  49267    252  17789   252  71369  41570    780    382  \n",
       "62  17626  41778   5347  29775   -97  48374  39538  11055   7531  \n",
       "72    389  27087  15505  32358   746  17061  23462  23314  27457  \n",
       "\n",
       "[72 rows x 1000 columns]"
      ]
     },
     "execution_count": 392,
     "metadata": {},
     "output_type": "execute_result"
    }
   ],
   "source": [
    "# TODO: limited_data should contain columns of data corresponding to genes with most variance\n",
    "limited_data = train.T\n",
    "\n",
    "limited_data = limited_data.iloc[:, limited_data.var(axis=0).sort_values()[-1000:].index]\n",
    "limited_data"
   ]
  },
  {
   "cell_type": "markdown",
   "metadata": {
    "colab_type": "text",
    "id": "O8WfvVXYrvZA"
   },
   "source": [
    "## PCA (30 points)\n"
   ]
  },
  {
   "cell_type": "markdown",
   "metadata": {
    "colab_type": "text",
    "id": "GNlO2lGATkiA"
   },
   "source": [
    "Implement PCA. Then use it to project the data to the latent space. Finally, reconstruct the data and report the reconstruction error for both training and test datasets. Note that you should implement the PCA, so using existing libraries is not allowed. you should use numpy to compute eigenvectors/eigenvalues of a matrix."
   ]
  },
  {
   "cell_type": "code",
   "execution_count": 393,
   "metadata": {
    "colab": {},
    "colab_type": "code",
    "id": "VcaZiPwFPupP"
   },
   "outputs": [],
   "source": [
    "def loss_function(a, b):\n",
    "  #####################################################################################\n",
    "  #                          COMPLETE THE FOLLOWING SECTION                           #\n",
    "  #####################################################################################\n",
    "  # Implement a function that given the original data and a\n",
    "  # reconstructed version, returns the reconstruction's mean squared error.\n",
    "  #####################################################################################\n",
    "    result = ((a - b) ** 2).mean()\n",
    "  ####################################################################################\n",
    "  #                                   THE END                                        #\n",
    "  #################################################################################### \n",
    "    return result"
   ]
  },
  {
   "cell_type": "code",
   "execution_count": 394,
   "metadata": {
    "colab": {},
    "colab_type": "code",
    "id": "K45o0KZaT3XY"
   },
   "outputs": [],
   "source": [
    "def PCA(X, n_components=72):\n",
    "    #####################################################################################\n",
    "    #                          COMPLETE THE FOLLOWING SECTION                           #\n",
    "    #####################################################################################\n",
    "    # X: a vector of shape (N, M)\n",
    "    # n_components: size of latent space (< M)\n",
    "    # returns a vector of shape (n_components, M) containing the first `n_components` PCs.\n",
    "    #####################################################################################\n",
    "    cov_X = np.cov((X - X.mean(axis = 0)).T)\n",
    "    eigen_values, eigen_vectors = np.linalg.eig(cov_X)\n",
    "    vector = eigen_vectors[:, (-eigen_values).argsort()[:n_components]].real\n",
    "    ####################################################################################\n",
    "    #                                   THE END                                        #\n",
    "    #################################################################################### \n",
    "    return vector"
   ]
  },
  {
   "cell_type": "code",
   "execution_count": 395,
   "metadata": {
    "colab": {},
    "colab_type": "code",
    "id": "L06lCh8I-0F2"
   },
   "outputs": [
    {
     "data": {
      "text/plain": [
       "array([[ 0.00241479,  0.00094336, -0.00349193, ..., -0.03784855,\n",
       "         0.03002971, -0.02873799],\n",
       "       [ 0.00813929,  0.00757091, -0.00463161, ...,  0.0069677 ,\n",
       "        -0.01675236, -0.00046538],\n",
       "       [-0.00381401, -0.00271548,  0.00837059, ...,  0.00131276,\n",
       "         0.01405449, -0.00771023],\n",
       "       ...,\n",
       "       [-0.31803963,  0.04017531, -0.0554499 , ...,  0.02136791,\n",
       "        -0.03464705, -0.36224233],\n",
       "       [-0.24087809, -0.03869224,  0.15034758, ...,  0.0012896 ,\n",
       "         0.04658462,  0.13464727],\n",
       "       [-0.36037737, -0.09259818,  0.14807134, ...,  0.0054705 ,\n",
       "        -0.03432123, -0.03387253]])"
      ]
     },
     "execution_count": 395,
     "metadata": {},
     "output_type": "execute_result"
    }
   ],
   "source": [
    "pca = PCA(limited_data)\n",
    "pca"
   ]
  },
  {
   "cell_type": "code",
   "execution_count": 396,
   "metadata": {
    "colab": {},
    "colab_type": "code",
    "id": "u8KGa5L9tf_j"
   },
   "outputs": [],
   "source": [
    "def reconstruct_PCA(X):\n",
    "    #####################################################################################\n",
    "    #                          COMPLETE THE FOLLOWING SECTION                           #\n",
    "    #####################################################################################\n",
    "    # Compute PCs for the X.\n",
    "    # Project X to the space of computed PCs.\n",
    "    # Reconstruct X from projected data.\n",
    "    #####################################################################################\n",
    "    X = X.values\n",
    "    principal_components = PCA(X)\n",
    "    projected_data = np.matmul(X - X.mean(axis = 0), principal_components)\n",
    "    reconstructed_data = np.matmul(projected_data, principal_components.T) + X.mean(axis = 0)\n",
    "    ####################################################################################\n",
    "    #                                   THE END                                        #\n",
    "    ####################################################################################     \n",
    "    return reconstructed_data\n"
   ]
  },
  {
   "cell_type": "code",
   "execution_count": 397,
   "metadata": {
    "colab": {},
    "colab_type": "code",
    "id": "uxyrH2Wq_CQv"
   },
   "outputs": [],
   "source": [
    "pca_rec = reconstruct_PCA(limited_data)"
   ]
  },
  {
   "cell_type": "code",
   "execution_count": 398,
   "metadata": {
    "colab": {},
    "colab_type": "code",
    "id": "W9-zt2Gp9y52"
   },
   "outputs": [
    {
     "data": {
      "text/plain": [
       "2.0500624707099486e-22"
      ]
     },
     "execution_count": 398,
     "metadata": {},
     "output_type": "execute_result"
    }
   ],
   "source": [
    "## Run This cell to find how your functions working!\n",
    "loss_function(pca_rec , limited_data.values.tolist())"
   ]
  },
  {
   "cell_type": "markdown",
   "metadata": {
    "colab_type": "text",
    "id": "RmGUESkSthcB"
   },
   "source": [
    "## K-Means (20 points)\n",
    "\n"
   ]
  },
  {
   "cell_type": "markdown",
   "metadata": {
    "colab_type": "text",
    "id": "WquMFXsuuYsi"
   },
   "source": [
    "read the below cell codes. this is using sklearn pca implementation. we use this function to use in our kmeans clustering."
   ]
  },
  {
   "cell_type": "code",
   "execution_count": 399,
   "metadata": {
    "colab": {},
    "colab_type": "code",
    "id": "weP1UN8ATaJi"
   },
   "outputs": [
    {
     "data": {
      "text/html": [
       "<div>\n",
       "<style scoped>\n",
       "    .dataframe tbody tr th:only-of-type {\n",
       "        vertical-align: middle;\n",
       "    }\n",
       "\n",
       "    .dataframe tbody tr th {\n",
       "        vertical-align: top;\n",
       "    }\n",
       "\n",
       "    .dataframe thead th {\n",
       "        text-align: right;\n",
       "    }\n",
       "</style>\n",
       "<table border=\"1\" class=\"dataframe\">\n",
       "  <thead>\n",
       "    <tr style=\"text-align: right;\">\n",
       "      <th></th>\n",
       "      <th>PC1</th>\n",
       "      <th>PC2</th>\n",
       "      <th>cancer</th>\n",
       "    </tr>\n",
       "  </thead>\n",
       "  <tbody>\n",
       "    <tr>\n",
       "      <td>0</td>\n",
       "      <td>4.341201</td>\n",
       "      <td>-4.770871</td>\n",
       "      <td>ALL</td>\n",
       "    </tr>\n",
       "    <tr>\n",
       "      <td>1</td>\n",
       "      <td>14.195648</td>\n",
       "      <td>1.693653</td>\n",
       "      <td>ALL</td>\n",
       "    </tr>\n",
       "    <tr>\n",
       "      <td>2</td>\n",
       "      <td>14.183927</td>\n",
       "      <td>-1.751302</td>\n",
       "      <td>ALL</td>\n",
       "    </tr>\n",
       "    <tr>\n",
       "      <td>3</td>\n",
       "      <td>1.756293</td>\n",
       "      <td>-3.357078</td>\n",
       "      <td>ALL</td>\n",
       "    </tr>\n",
       "    <tr>\n",
       "      <td>4</td>\n",
       "      <td>11.519685</td>\n",
       "      <td>-9.365328</td>\n",
       "      <td>ALL</td>\n",
       "    </tr>\n",
       "    <tr>\n",
       "      <td>...</td>\n",
       "      <td>...</td>\n",
       "      <td>...</td>\n",
       "      <td>...</td>\n",
       "    </tr>\n",
       "    <tr>\n",
       "      <td>67</td>\n",
       "      <td>-9.111561</td>\n",
       "      <td>-8.859141</td>\n",
       "      <td>ALL</td>\n",
       "    </tr>\n",
       "    <tr>\n",
       "      <td>68</td>\n",
       "      <td>9.836478</td>\n",
       "      <td>22.720666</td>\n",
       "      <td>ALL</td>\n",
       "    </tr>\n",
       "    <tr>\n",
       "      <td>69</td>\n",
       "      <td>-1.017386</td>\n",
       "      <td>19.754304</td>\n",
       "      <td>ALL</td>\n",
       "    </tr>\n",
       "    <tr>\n",
       "      <td>70</td>\n",
       "      <td>-4.869208</td>\n",
       "      <td>17.797050</td>\n",
       "      <td>ALL</td>\n",
       "    </tr>\n",
       "    <tr>\n",
       "      <td>71</td>\n",
       "      <td>1.404915</td>\n",
       "      <td>-5.935704</td>\n",
       "      <td>ALL</td>\n",
       "    </tr>\n",
       "  </tbody>\n",
       "</table>\n",
       "<p>72 rows × 3 columns</p>\n",
       "</div>"
      ],
      "text/plain": [
       "          PC1        PC2 cancer\n",
       "0    4.341201  -4.770871    ALL\n",
       "1   14.195648   1.693653    ALL\n",
       "2   14.183927  -1.751302    ALL\n",
       "3    1.756293  -3.357078    ALL\n",
       "4   11.519685  -9.365328    ALL\n",
       "..        ...        ...    ...\n",
       "67  -9.111561  -8.859141    ALL\n",
       "68   9.836478  22.720666    ALL\n",
       "69  -1.017386  19.754304    ALL\n",
       "70  -4.869208  17.797050    ALL\n",
       "71   1.404915  -5.935704    ALL\n",
       "\n",
       "[72 rows x 3 columns]"
      ]
     },
     "execution_count": 399,
     "metadata": {},
     "output_type": "execute_result"
    }
   ],
   "source": [
    "from sklearn.preprocessing import StandardScaler\n",
    "from sklearn.decomposition import PCA\n",
    "x_norm = StandardScaler().fit_transform(limited_data)\n",
    "pca = PCA(n_components=2)\n",
    "principalComponents = pca.fit_transform(x_norm)\n",
    "principalDf = pd.DataFrame(data = principalComponents\n",
    "             , columns = ['PC1', 'PC2'])\n",
    "principalDf = principalDf.set_index(labels.index)\n",
    "finalDf = pd.concat([principalDf, labels['cancer']], axis = 1)\n",
    "finalDf\n"
   ]
  },
  {
   "cell_type": "markdown",
   "metadata": {
    "colab_type": "text",
    "id": "PdOAi2mSkZKR"
   },
   "source": [
    "here we try to initialize centroids. Note that we already knows we have two cluster, So from our prior knowledge we define number of clusters equal to two."
   ]
  },
  {
   "cell_type": "code",
   "execution_count": 400,
   "metadata": {
    "colab": {},
    "colab_type": "code",
    "id": "f2ZM3kLwvX_n"
   },
   "outputs": [
    {
     "name": "stdout",
     "output_type": "stream",
     "text": [
      "[[23.  0.]\n",
      " [ 7. 30.]]\n"
     ]
    }
   ],
   "source": [
    "np.random.seed(1000)\n",
    "# Number of clusters\n",
    "k = 2\n",
    "X = np.array(list(zip(finalDf['PC1'], finalDf['PC2'])))\n",
    "# X coordinates of random centroids\n",
    "C_x = np.random.randint(0, np.max(X)-20, size=k)\n",
    "# Y coordinates of random centroids\n",
    "C_y = np.random.randint(0, np.max(X)-20, size=k)\n",
    "C = np.array(list(zip(C_x, C_y)), dtype=np.float32)\n",
    "print(C)"
   ]
  },
  {
   "cell_type": "markdown",
   "metadata": {
    "colab_type": "text",
    "id": "7hyU49kHkqhD"
   },
   "source": [
    "Now you can see the unlabeled data and our initialization data by running following cell"
   ]
  },
  {
   "cell_type": "code",
   "execution_count": 401,
   "metadata": {
    "colab": {},
    "colab_type": "code",
    "id": "44In_GGZvuHh"
   },
   "outputs": [
    {
     "data": {
      "text/plain": [
       "<matplotlib.collections.PathCollection at 0x1a25373f10>"
      ]
     },
     "execution_count": 401,
     "metadata": {},
     "output_type": "execute_result"
    },
    {
     "data": {
      "image/png": "[encoded data removed]",
      "text/plain": [
       "<Figure size 842.4x595.44 with 1 Axes>"
      ]
     },
     "metadata": {},
     "output_type": "display_data"
    }
   ],
   "source": [
    "# Plotting along with the Centroids\n",
    "plt.scatter(finalDf['PC1'], finalDf['PC2'], c='#050505', s=7)\n",
    "plt.scatter(C_x, C_y, marker='*', s=200, c='g')"
   ]
  },
  {
   "cell_type": "markdown",
   "metadata": {
    "colab_type": "text",
    "id": "ugKD1qEDkzLZ"
   },
   "source": [
    "It's your turn. Implement K-Means function which return a np.array with size equal to your data. this array contain each point label that you assigned using kmeans clustering."
   ]
  },
  {
   "cell_type": "code",
   "execution_count": 402,
   "metadata": {
    "colab": {},
    "colab_type": "code",
    "id": "KCu4Q92Uv6mQ"
   },
   "outputs": [],
   "source": [
    "def Kmeans(X, Centroids):\n",
    "    clusters = np.zeros(len(X))\n",
    "    # To store the value of centroids when it updates\n",
    "    C = Centroids\n",
    "    C_old = np.zeros(C.shape)\n",
    "    # Cluster Lables(0, 1)\n",
    "    clusters = np.zeros(len(X))\n",
    "    # Error func. - Distance between new centroids and old centroids\n",
    "    error = np.linalg.norm(C - C_old)\n",
    "    ####################################################################################\n",
    "    #                          COMPLETE THE FOLLOWING SECTION                          #\n",
    "    ####################################################################################\n",
    "    # Implement K-Means Clustering\n",
    "    # Assigning each value to its closest cluster\n",
    "    # Storing the old centroid values\n",
    "    # Finding the new centroids by taking the average value\n",
    "    # clusters variable should contain (0,1) labels. 0 for first cluster and 1 for the second. \n",
    "    ####################################################################################\n",
    "    # Loop will run till the error becomes zero\n",
    "    # Do Not Forget to update error condition.\n",
    "    dists = np.zeros((len(X), len(C)))\n",
    "    while error != 0:\n",
    "        for i, c in enumerate(C):\n",
    "            dists[:, i] = np.linalg.norm(X - c, axis=1)\n",
    "        clusters = np.argmin(dists, axis=1)\n",
    "        C_old = np.copy(C)\n",
    "        for i in range(len(C)):\n",
    "            C[i] = np.mean(X[clusters == i], axis=0)\n",
    "        error = np.linalg.norm(C - C_old)\n",
    "    ####################################################################################\n",
    "    #                                   THE END                                        #\n",
    "    ####################################################################################\n",
    "    return clusters"
   ]
  },
  {
   "cell_type": "code",
   "execution_count": 403,
   "metadata": {
    "colab": {},
    "colab_type": "code",
    "id": "_ZY4LglCj2Oz"
   },
   "outputs": [],
   "source": [
    "clusters = Kmeans(X, C)"
   ]
  },
  {
   "cell_type": "markdown",
   "metadata": {
    "colab_type": "text",
    "id": "liuvdw6Ml7wZ"
   },
   "source": [
    "Now just run cell below to plot your result. "
   ]
  },
  {
   "cell_type": "code",
   "execution_count": 404,
   "metadata": {
    "colab": {},
    "colab_type": "code",
    "id": "GOam4hp1wbn4"
   },
   "outputs": [
    {
     "data": {
      "text/plain": [
       "<matplotlib.collections.PathCollection at 0x1a25383450>"
      ]
     },
     "execution_count": 404,
     "metadata": {},
     "output_type": "execute_result"
    },
    {
     "data": {
      "image/png": "[encoded data removed]",
      "text/plain": [
       "<Figure size 842.4x595.44 with 1 Axes>"
      ]
     },
     "metadata": {},
     "output_type": "display_data"
    }
   ],
   "source": [
    "colors = ['r', 'g', 'b', 'y', 'c', 'm']\n",
    "fig, ax = plt.subplots()\n",
    "for i in range(k):\n",
    "        points = np.array([X[j] for j in range(len(X)) if clusters[j] == i])\n",
    "        ax.scatter(points[:, 0], points[:, 1], s=7, c=colors[i])\n",
    "ax.scatter(C[:, 0], C[:, 1], marker='*', s=200, c='#050505')"
   ]
  },
  {
   "cell_type": "markdown",
   "metadata": {
    "colab_type": "text",
    "id": "fZPQjdLdMLmo"
   },
   "source": [
    "This part shows real labels of the samples. just run this cell and answer the next question. "
   ]
  },
  {
   "cell_type": "code",
   "execution_count": 405,
   "metadata": {
    "colab": {},
    "colab_type": "code",
    "id": "Qd6GZwJnMF8n"
   },
   "outputs": [
    {
     "data": {
      "text/plain": [
       "(-20, 25)"
      ]
     },
     "execution_count": 405,
     "metadata": {},
     "output_type": "execute_result"
    },
    {
     "data": {
      "image/png": "[encoded data removed]",
      "text/plain": [
       "<Figure size 720x720 with 1 Axes>"
      ]
     },
     "metadata": {},
     "output_type": "display_data"
    }
   ],
   "source": [
    "fig = plt.figure(figsize=(10,10))\n",
    "ax = fig.add_subplot(1,1,1) \n",
    "ax.set_xlabel('PC1', fontsize=15)\n",
    "ax.set_ylabel('PC2', fontsize=15)\n",
    "ax.set_title('2 component PCA', fontsize=20)\n",
    "targets = ['ALL','AML']\n",
    "colors = ['r', 'g']\n",
    "for target, color in zip(targets,colors):\n",
    "    indicesToKeep = finalDf['cancer'] == target\n",
    "    ax.scatter(finalDf.loc[indicesToKeep, 'PC1'],\n",
    "               finalDf.loc[indicesToKeep, 'PC2'],\n",
    "               c=color,\n",
    "               s=50)\n",
    "ax.legend(targets)\n",
    "ax.grid()\n",
    "ax.set_xlim([-20, 25])\n",
    "ax.set_ylim([-20, 25])"
   ]
  },
  {
   "cell_type": "markdown",
   "metadata": {
    "colab_type": "text",
    "id": "NXv0R4dDNwoa"
   },
   "source": [
    "Compare your results with the figure above and tell us what will change if we change the random seed (try it with two or three different seeds) and what is the solution?"
   ]
  },
  {
   "cell_type": "markdown",
   "metadata": {
    "colab_type": "text",
    "id": "CmhXIZAFOgKZ"
   },
   "source": [
    "--> \n",
    "   Write Your Answer Here \n",
    "<--\n",
    "\n",
    "For 1000 as random seed, our results is comparable to real values but if we change random seed to some other values e.g. 2 our algorithm almost collapses because Kmeans is fully sensitive to centroid initialization (as it might get stuck in some local minima). Various solutions are available for this problems such as:\n",
    "1. Trying with multiple random seeds and reporting the best results using validation data\n",
    "2. Trying some a bit more complicated moves like simultaneous merge and split move which merge two small clusters together simultaneously splitting a big cluster into two small ones.\n",
    "3. Algorithms like Kmeans++ as an approximation for the NP-hard problem of finding the best intializations which intuitionally trys to make initial centroids reasonably far from each other\n",
    "4. ..."
   ]
  },
  {
   "cell_type": "markdown",
   "metadata": {
    "colab_type": "text",
    "id": "YQN_77qvfrnE"
   },
   "source": [
    "## GMM (30 points)\n",
    "\n",
    "The EM algorithm for GMM can be simplified in the following steps:\n",
    "\n",
    "Assuming K is the number of clusters, and N is the number of data points\n",
    "\n",
    "\n",
    "$z_j^i$ is 1 if $x^i$ is generated from mixture j\n",
    "\n",
    "Initialize $\\mu_k$, $\\Sigma_k$ and $\\pi_k$ k=1,...K\n",
    "\n",
    "\n",
    "$\\theta=[\\pi,\\mu,\\Sigma]$\n",
    "## E step:\n",
    "$\\gamma_j^i=P(z_j^i=1|x^i, \\theta^{old})=\\frac{\\pi_j^{old}\\mathcal{N}(x^i|\\mu_j^{old},\\Sigma_j^{old})}{\\sum_{k=1}^K\\pi_k^{old}\\mathcal{N}(x^i|\\mu_k^{old},\\Sigma_k^{old})}$\n",
    "\n",
    "## M step:\n",
    "$\\mu_j^{new}=\\frac{\\sum_{i=1}^N \\gamma_j^i x^i}{\\sum_{i=1}^N \\gamma_j^i}$\n",
    "\n",
    "\n",
    "$\\Sigma_j^{new} = \\frac{1}{\\sum_{i=1}^N \\gamma_j^i} \\sum_{i=1}^N \\gamma_j^i (x^i-\\mu_j^{new}) (x^i-\\mu_j^{new})^T$\n",
    "\n",
    "\n",
    "$\\pi_j^{new} = \\frac{\\sum_{i=1}^N \\gamma_j^i}{N}$\n",
    "\n",
    "Repeat E and M steps until convergence.\n"
   ]
  },
  {
   "cell_type": "code",
   "execution_count": 412,
   "metadata": {
    "colab": {},
    "colab_type": "code",
    "id": "YdRTYxnefrnG"
   },
   "outputs": [],
   "source": [
    "import time\n",
    "t = 1000 * time.time() # current time in milliseconds\n",
    "np.random.seed(int(t) % 2**32)\n",
    "\n",
    "from scipy.stats import multivariate_normal\n",
    "class GMM(object):\n",
    "    def __init__(self, x, k, iterations):\n",
    "        self.x = x\n",
    "        self.n = x.shape[0] # data points\n",
    "        self.f = x.shape[1] # features\n",
    "        self.k = k  # number of clusters\n",
    "        self.iterations = iterations\n",
    "\n",
    "        self.predictions = None\n",
    "        \n",
    "        # TODO: initialte parameters\n",
    "        self.pi = np.full(shape=k, fill_value=1 / k) # of size (k)\n",
    "        self.mu = np.array([X[index, :] for index in np.random.randint(low=0, high=self.n, size=self.k)]) # of size (k, f)\n",
    "        self.sigma = np.array([np.cov(X.T) for i in range(self.k)]) # of size (k, f, f)\n",
    "        \n",
    "\n",
    "    def calc_gamma(self):\n",
    "#         TODO: calculate gamma matrix based on parameters and x\n",
    "#         returns a matrix of shape (n, k) where n is the number of data points\n",
    "        gammas = [[self.pi[j] * multivariate_normal.pdf(self.x[i, :], self.mu[j], self.sigma[j], allow_singular=True) \\\n",
    "                  for j in range(self.k)] for i in range(self.n)]\n",
    "        gammas = np.array(gammas)\n",
    "        gammas /= np.sum(gammas, axis=1)[:, None]\n",
    "        return gammas\n",
    "        \n",
    "    def update_mu(self, gamma):\n",
    "        # TODO: update self.mu based on x and gamma matrix\n",
    "        for i in range(self.k):\n",
    "            self.mu[i, :] = (self.x * gamma[:, [i]]).sum(axis=0) / np.sum(gamma[:, i])  \n",
    "    \n",
    "    def update_sigma(self, gamma):\n",
    "        # TODO: update self.sigma based on x, mu and gamma matrix\n",
    "        for j in range(k):\n",
    "            x_unbiased = self.x - self.mu[j, :]\n",
    "            self.sigma[i, :, :] = np.cov(x_unbiased.T, aweights=(gamma[:, j] / np.sum(gamma[:, j])).flatten(), bias=True)\n",
    "    \n",
    "    def update_pi(self, gamma):\n",
    "        # TODO: update self.pi based on gamma matrix\n",
    "        self.pi = np.mean(gamma, axis= 0)\n",
    "        \n",
    "    def fit(self):\n",
    "        for i in range(self.iterations):\n",
    "            gamma = self.calc_gamma()\n",
    "            self.update_mu(gamma)\n",
    "            self.update_sigma(gamma)\n",
    "            self.update_pi(gamma)\n",
    "        \n",
    "        # TODO: predict the mixture for each data\n",
    "        self.predictions = np.argmax(gamma, axis=1)\n",
    "        \n",
    "        "
   ]
  },
  {
   "cell_type": "code",
   "execution_count": 413,
   "metadata": {
    "colab": {},
    "colab_type": "code",
    "id": "qvcfZa_dfrnL"
   },
   "outputs": [
    {
     "name": "stdout",
     "output_type": "stream",
     "text": [
      "[1 0 1 1 1 1 1 1 1 1 1 1 1 1 1 1 0 1 1 1 1 1 1 1 1 1 1 0 1 0 0 0 0 1 0 0 0\n",
      " 0 1 1 1 1 1 0 1 1 1 1 1 1 1 1 1 1 1 1 1 0 0 0 0 0 1 0 1 0 0 1 0 0 0 1]\n"
     ]
    }
   ],
   "source": [
    "gmm = GMM(X, 2, 500)\n",
    "gmm.fit()\n",
    "gmm_clusters = gmm.predictions \n",
    "print(gmm_clusters)"
   ]
  },
  {
   "cell_type": "code",
   "execution_count": 414,
   "metadata": {
    "colab": {},
    "colab_type": "code",
    "id": "iu-8ZKQLfrnQ"
   },
   "outputs": [
    {
     "data": {
      "text/plain": [
       "<matplotlib.collections.PathCollection at 0x1a2524e790>"
      ]
     },
     "execution_count": 414,
     "metadata": {},
     "output_type": "execute_result"
    },
    {
     "data": {
      "image/png": "[encoded data removed]",
      "text/plain": [
       "<Figure size 842.4x595.44 with 1 Axes>"
      ]
     },
     "metadata": {},
     "output_type": "display_data"
    }
   ],
   "source": [
    "# fig, ax = plt.subplots()\n",
    "# for i in range(k):\n",
    "#         points = np.array([X[j] for j in range(len(X)) if gmm_clusters[j] == i])\n",
    "#         ax.scatter(points[:, 0], points[:, 1], s=7, c=colors[i])\n",
    "# ax.scatter(C[:, 0], C[:, 1], marker='*', s=200, c='#050505')\n",
    "fig, ax = plt.subplots()\n",
    "for i in range(k):\n",
    "        points = np.array([X[j] for j in range(len(X)) if gmm_clusters[j] == i])\n",
    "        ax.scatter(points[:, 0], points[:, 1], s=7, c=colors[i])\n",
    "ax.scatter(gmm.mu[:, 0], gmm.mu[:, 1], marker='*', s=200, c='#050505')"
   ]
  },
  {
   "cell_type": "markdown",
   "metadata": {
    "colab_type": "text",
    "id": "i8m21EhVfrnW"
   },
   "source": [
    "## t-SNE (10 points)"
   ]
  },
  {
   "cell_type": "markdown",
   "metadata": {
    "colab_type": "text",
    "id": "Jb8CAX8cfrnX"
   },
   "source": [
    "In this part we are using a generated dataset to test the effect of t-SNE hyperparameters.\n",
    "The data points are on two paralllel lines with a small additive noise."
   ]
  },
  {
   "cell_type": "code",
   "execution_count": 415,
   "metadata": {
    "colab": {},
    "colab_type": "code",
    "id": "6dBH6AmSfrnY"
   },
   "outputs": [
    {
     "name": "stdout",
     "output_type": "stream",
     "text": [
      "(200, 20)\n",
      "(200,)\n"
     ]
    }
   ],
   "source": [
    "# load the dataset\n",
    "\n",
    "X = np.load('X.npy')\n",
    "y = np.load('y.npy')\n",
    "print(X.shape)\n",
    "print(y.shape)"
   ]
  },
  {
   "cell_type": "code",
   "execution_count": 416,
   "metadata": {
    "colab": {},
    "colab_type": "code",
    "id": "oOzBZkaXfrnd",
    "scrolled": true
   },
   "outputs": [
    {
     "data": {
      "text/plain": [
       "<matplotlib.axes._subplots.AxesSubplot at 0x1a269a0190>"
      ]
     },
     "execution_count": 416,
     "metadata": {},
     "output_type": "execute_result"
    },
    {
     "data": {
      "image/png": "[encoded data removed]",
      "text/plain": [
       "<Figure size 842.4x595.44 with 1 Axes>"
      ]
     },
     "metadata": {},
     "output_type": "display_data"
    }
   ],
   "source": [
    "# plot data in 2 dimensions using PCA\n",
    "pca = PCA(n_components=2)\n",
    "x_pca = pca.fit_transform(X)\n",
    "sns.scatterplot(x_pca[:,0], x_pca[:,1], hue=y, legend='full', palette=palette)"
   ]
  },
  {
   "cell_type": "markdown",
   "metadata": {
    "colab_type": "text",
    "id": "oNF9FTFYfrni"
   },
   "source": [
    "Find the best hyperparameters such that the output of t-SNE is similar to the output of PCA. Please make sure that your results are stable. Try running t-SNE a few times until you get the same results.\n",
    "\n",
    "You can use [this link](https://distill.pub/2016/misread-tsne/) for help!"
   ]
  },
  {
   "cell_type": "code",
   "execution_count": 417,
   "metadata": {
    "colab": {},
    "colab_type": "code",
    "id": "EoUsJV99frnj"
   },
   "outputs": [
    {
     "data": {
      "text/plain": [
       "<matplotlib.axes._subplots.AxesSubplot at 0x1a27156910>"
      ]
     },
     "execution_count": 417,
     "metadata": {},
     "output_type": "execute_result"
    },
    {
     "data": {
      "image/png": "[encoded data removed]",
      "text/plain": [
       "<Figure size 842.4x595.44 with 1 Axes>"
      ]
     },
     "metadata": {},
     "output_type": "display_data"
    }
   ],
   "source": [
    "tsne = TSNE(perplexity = 120, n_iter = 1000, learning_rate = 200, random_state = 1500)  # TODO: set hyperparameters\n",
    "\n",
    "X_embedded = tsne.fit_transform(X)\n",
    "\n",
    "sns.scatterplot(X_embedded[:,0], X_embedded[:,1], hue=y, legend='full', palette=palette)"
   ]
  },
  {
   "cell_type": "markdown",
   "metadata": {
    "colab_type": "text",
    "id": "_YbMHsbafrno"
   },
   "source": [
    "Are the lines perfectly straight? Can you explain why? "
   ]
  },
  {
   "cell_type": "markdown",
   "metadata": {
    "colab_type": "text",
    "id": "GZ5VxOGcfrnp"
   },
   "source": [
    "--> \n",
    "   Write Your Answer Here \n",
    "<--\n",
    "\n",
    "No, Lines are slightly curved, since t-SNE trys to capture topology by preserving neighbours of each point using t-distribution as a tool to estimate likelihood for neighbourhood, as a result of that t-SNE trys to expand the denser parts of the data (most neighboorhoods are) and this matter causes curves in inner parts of the lines."
   ]
  }
 ],
 "metadata": {
  "colab": {
   "collapsed_sections": [],
   "name": "HW4_Practical.ipynb",
   "provenance": [],
   "toc_visible": true
  },
  "kernelspec": {
   "display_name": "Python 3",
   "language": "python",
   "name": "python3"
  },
  "language_info": {
   "codemirror_mode": {
    "name": "ipython",
    "version": 3
   },
   "file_extension": ".py",
   "mimetype": "text/x-python",
   "name": "python",
   "nbconvert_exporter": "python",
   "pygments_lexer": "ipython3",
   "version": "3.7.4"
  }
 },
 "nbformat": 4,
 "nbformat_minor": 1
}
